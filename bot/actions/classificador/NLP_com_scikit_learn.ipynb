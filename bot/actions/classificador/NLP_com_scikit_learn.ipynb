{
 "cells": [
  {
   "cell_type": "markdown",
   "metadata": {
    "colab_type": "text",
    "id": "BJElcCQ6DwXv"
   },
   "source": [
    "by [__Tiago Dias__](https://www.linkedin.com/in/diasctiago/) "
   ]
  },
  {
   "cell_type": "markdown",
   "metadata": {
    "colab_type": "text",
    "id": "t9eSPPRmUEby"
   },
   "source": [
    "# NLP com scikit-learn"
   ]
  },
  {
   "cell_type": "markdown",
   "metadata": {
    "colab_type": "text",
    "id": "4eakEWy_62vS"
   },
   "source": [
    "## Importando bibliotecas"
   ]
  },
  {
   "cell_type": "code",
   "execution_count": 5,
   "metadata": {
    "colab": {
     "base_uri": "https://localhost:8080/",
     "height": 85
    },
    "colab_type": "code",
    "id": "F5Tc6cI9Kvpj",
    "outputId": "88b2ba16-8163-4ea6-e5d2-1ea968cb51da"
   },
   "outputs": [
    {
     "name": "stderr",
     "output_type": "stream",
     "text": [
      "[nltk_data] Downloading package stopwords to /home/dias/nltk_data...\n",
      "[nltk_data]   Package stopwords is already up-to-date!\n",
      "[nltk_data] Downloading package punkt to /home/dias/nltk_data...\n",
      "[nltk_data]   Package punkt is already up-to-date!\n"
     ]
    }
   ],
   "source": [
    "import pandas as pd\n",
    "import numpy as np\n",
    "import nltk\n",
    "from nltk.corpus import stopwords\n",
    "nltk.download('stopwords')\n",
    "nltk.download('punkt')\n",
    "from sklearn.feature_extraction.text import CountVectorizer, TfidfTransformer\n",
    "from sklearn.svm import LinearSVC\n",
    "from sklearn import metrics\n",
    "from sklearn.model_selection import train_test_split\n",
    "from sklearn.pipeline import Pipeline\n",
    "from joblib import dump, load\n",
    "import matplotlib.pyplot as plt\n",
    "#from wordcloud import WordCloud\n"
   ]
  },
  {
   "cell_type": "markdown",
   "metadata": {
    "colab_type": "text",
    "id": "_-re6wFx668E"
   },
   "source": [
    "## Carregando dataset"
   ]
  },
  {
   "cell_type": "code",
   "execution_count": 10,
   "metadata": {
    "colab": {
     "base_uri": "https://localhost:8080/",
     "height": 111
    },
    "colab_type": "code",
    "id": "h8giii59K9Aq",
    "outputId": "1caa7dbc-e461-4bfc-b1b6-d5469aad6283"
   },
   "outputs": [
    {
     "data": {
      "text/html": [
       "<div>\n",
       "<style scoped>\n",
       "    .dataframe tbody tr th:only-of-type {\n",
       "        vertical-align: middle;\n",
       "    }\n",
       "\n",
       "    .dataframe tbody tr th {\n",
       "        vertical-align: top;\n",
       "    }\n",
       "\n",
       "    .dataframe thead th {\n",
       "        text-align: right;\n",
       "    }\n",
       "</style>\n",
       "<table border=\"1\" class=\"dataframe\">\n",
       "  <thead>\n",
       "    <tr style=\"text-align: right;\">\n",
       "      <th></th>\n",
       "      <th>Texto</th>\n",
       "      <th>Classificação</th>\n",
       "      <th>Título</th>\n",
       "      <th>Link</th>\n",
       "    </tr>\n",
       "  </thead>\n",
       "  <tbody>\n",
       "    <tr>\n",
       "      <th>0</th>\n",
       "      <td>dia nacional do combate às drogas e ao alcoolismo</td>\n",
       "      <td>Consumo de Álcool</td>\n",
       "      <td>Um panorama através da pandemia do Covid-19</td>\n",
       "      <td>https://healthlake.com.br/artigos/consumo-de-a...</td>\n",
       "    </tr>\n",
       "    <tr>\n",
       "      <th>1</th>\n",
       "      <td>abuso de álcool e drogas como problema de saúd...</td>\n",
       "      <td>Consumo de Álcool</td>\n",
       "      <td>Um panorama através da pandemia do Covid-19</td>\n",
       "      <td>https://healthlake.com.br/artigos/consumo-de-a...</td>\n",
       "    </tr>\n",
       "  </tbody>\n",
       "</table>\n",
       "</div>"
      ],
      "text/plain": [
       "                                               Texto      Classificação  \\\n",
       "0  dia nacional do combate às drogas e ao alcoolismo  Consumo de Álcool   \n",
       "1  abuso de álcool e drogas como problema de saúd...  Consumo de Álcool   \n",
       "\n",
       "                                        Título  \\\n",
       "0  Um panorama através da pandemia do Covid-19   \n",
       "1  Um panorama através da pandemia do Covid-19   \n",
       "\n",
       "                                                Link  \n",
       "0  https://healthlake.com.br/artigos/consumo-de-a...  \n",
       "1  https://healthlake.com.br/artigos/consumo-de-a...  "
      ]
     },
     "execution_count": 10,
     "metadata": {},
     "output_type": "execute_result"
    }
   ],
   "source": [
    "df = pd.read_csv('catalogo.csv',delimiter=';')\n",
    "df.head(2)"
   ]
  },
  {
   "cell_type": "markdown",
   "metadata": {},
   "source": [
    "## Possíveis classificações"
   ]
  },
  {
   "cell_type": "code",
   "execution_count": 11,
   "metadata": {},
   "outputs": [
    {
     "data": {
      "text/html": [
       "<div>\n",
       "<style scoped>\n",
       "    .dataframe tbody tr th:only-of-type {\n",
       "        vertical-align: middle;\n",
       "    }\n",
       "\n",
       "    .dataframe tbody tr th {\n",
       "        vertical-align: top;\n",
       "    }\n",
       "\n",
       "    .dataframe thead th {\n",
       "        text-align: right;\n",
       "    }\n",
       "</style>\n",
       "<table border=\"1\" class=\"dataframe\">\n",
       "  <thead>\n",
       "    <tr style=\"text-align: right;\">\n",
       "      <th></th>\n",
       "      <th>Classificação</th>\n",
       "      <th>Título</th>\n",
       "      <th>Link</th>\n",
       "    </tr>\n",
       "  </thead>\n",
       "  <tbody>\n",
       "    <tr>\n",
       "      <th>0</th>\n",
       "      <td>Consumo de Álcool</td>\n",
       "      <td>Um panorama através da pandemia do Covid-19</td>\n",
       "      <td>https://healthlake.com.br/artigos/consumo-de-a...</td>\n",
       "    </tr>\n",
       "    <tr>\n",
       "      <th>1</th>\n",
       "      <td>Consumo de Álcool</td>\n",
       "      <td>Análise Fevereiro – Alcoolismo</td>\n",
       "      <td>https://public.tableau.com/profile/health.lake...</td>\n",
       "    </tr>\n",
       "    <tr>\n",
       "      <th>2</th>\n",
       "      <td>Covid</td>\n",
       "      <td>Casos de COVID-19 no Brasil</td>\n",
       "      <td>https://public.tableau.com/profile/rcsalgueiro...</td>\n",
       "    </tr>\n",
       "    <tr>\n",
       "      <th>3</th>\n",
       "      <td>Covid</td>\n",
       "      <td>Evolução de mortes causadas pelo COVID-19 em 2020</td>\n",
       "      <td>https://public.tableau.com/profile/health.lake...</td>\n",
       "    </tr>\n",
       "    <tr>\n",
       "      <th>4</th>\n",
       "      <td>Doação de Sangue</td>\n",
       "      <td>Doação de sangue: uma análise da nossa corrent...</td>\n",
       "      <td>https://healthlake.com.br/artigos/doacao-de-sa...</td>\n",
       "    </tr>\n",
       "    <tr>\n",
       "      <th>5</th>\n",
       "      <td>Hepatite C</td>\n",
       "      <td>Combate à Hepatite C no Brasil: vamos retornar...</td>\n",
       "      <td>https://healthlake.com.br/artigos/-HqCombate%2...</td>\n",
       "    </tr>\n",
       "    <tr>\n",
       "      <th>6</th>\n",
       "      <td>Perfil de Consumo Brasileiro</td>\n",
       "      <td>Uma visão analítica do perfil de consumo no Br...</td>\n",
       "      <td>https://healthlake.com.br/artigos/uma-visao-an...</td>\n",
       "    </tr>\n",
       "    <tr>\n",
       "      <th>7</th>\n",
       "      <td>SUS</td>\n",
       "      <td>Razões da eficiência do SUS no controle da pan...</td>\n",
       "      <td>https://healthlake.com.br/artigos/razoes-da-ef...</td>\n",
       "    </tr>\n",
       "    <tr>\n",
       "      <th>8</th>\n",
       "      <td>Tratamentos Oncológicos</td>\n",
       "      <td>Os Danos Silenciosos da COVID-19</td>\n",
       "      <td>https://healthlake.com.br/artigos/os-danos-sil...</td>\n",
       "    </tr>\n",
       "    <tr>\n",
       "      <th>9</th>\n",
       "      <td>Violência Contra Mulher</td>\n",
       "      <td>Violência Doméstica em Tempos de Pandemia Viol...</td>\n",
       "      <td>https://healthlake.com.br/artigos/violencia-do...</td>\n",
       "    </tr>\n",
       "  </tbody>\n",
       "</table>\n",
       "</div>"
      ],
      "text/plain": [
       "                  Classificação  \\\n",
       "0             Consumo de Álcool   \n",
       "1             Consumo de Álcool   \n",
       "2                         Covid   \n",
       "3                         Covid   \n",
       "4              Doação de Sangue   \n",
       "5                    Hepatite C   \n",
       "6  Perfil de Consumo Brasileiro   \n",
       "7                           SUS   \n",
       "8       Tratamentos Oncológicos   \n",
       "9       Violência Contra Mulher   \n",
       "\n",
       "                                              Título  \\\n",
       "0        Um panorama através da pandemia do Covid-19   \n",
       "1                     Análise Fevereiro – Alcoolismo   \n",
       "2                        Casos de COVID-19 no Brasil   \n",
       "3  Evolução de mortes causadas pelo COVID-19 em 2020   \n",
       "4  Doação de sangue: uma análise da nossa corrent...   \n",
       "5  Combate à Hepatite C no Brasil: vamos retornar...   \n",
       "6  Uma visão analítica do perfil de consumo no Br...   \n",
       "7  Razões da eficiência do SUS no controle da pan...   \n",
       "8                   Os Danos Silenciosos da COVID-19   \n",
       "9  Violência Doméstica em Tempos de Pandemia Viol...   \n",
       "\n",
       "                                                Link  \n",
       "0  https://healthlake.com.br/artigos/consumo-de-a...  \n",
       "1  https://public.tableau.com/profile/health.lake...  \n",
       "2  https://public.tableau.com/profile/rcsalgueiro...  \n",
       "3  https://public.tableau.com/profile/health.lake...  \n",
       "4  https://healthlake.com.br/artigos/doacao-de-sa...  \n",
       "5  https://healthlake.com.br/artigos/-HqCombate%2...  \n",
       "6  https://healthlake.com.br/artigos/uma-visao-an...  \n",
       "7  https://healthlake.com.br/artigos/razoes-da-ef...  \n",
       "8  https://healthlake.com.br/artigos/os-danos-sil...  \n",
       "9  https://healthlake.com.br/artigos/violencia-do...  "
      ]
     },
     "execution_count": 11,
     "metadata": {},
     "output_type": "execute_result"
    }
   ],
   "source": [
    "df_classificador = df[['Classificação','Título','Link']].drop_duplicates().reset_index(drop=True).copy()\n",
    "df_classificador.head(10)"
   ]
  },
  {
   "cell_type": "code",
   "execution_count": 12,
   "metadata": {},
   "outputs": [
    {
     "data": {
      "text/plain": [
       "Consumo de Álcool               20\n",
       "Covid                           20\n",
       "Doação de Sangue                20\n",
       "Hepatite C                      20\n",
       "Perfil de Consumo Brasileiro    20\n",
       "SUS                             20\n",
       "Tratamentos Oncológicos         20\n",
       "Violência Contra Mulher         20\n",
       "Name: Classificação, dtype: int64"
      ]
     },
     "execution_count": 12,
     "metadata": {},
     "output_type": "execute_result"
    }
   ],
   "source": [
    "df['Classificação'].value_counts()"
   ]
  },
  {
   "cell_type": "markdown",
   "metadata": {
    "colab_type": "text",
    "id": "r_ThoAYG7ADS"
   },
   "source": [
    "## Criando uma nova coluna"
   ]
  },
  {
   "cell_type": "code",
   "execution_count": 13,
   "metadata": {
    "colab": {},
    "colab_type": "code",
    "id": "sZHEPby5SULL"
   },
   "outputs": [],
   "source": [
    "df['nv_Texto'] = df['Texto'].copy()"
   ]
  },
  {
   "cell_type": "markdown",
   "metadata": {
    "colab_type": "text",
    "id": "srB6nkws7Dvd"
   },
   "source": [
    "## Pontuação"
   ]
  },
  {
   "cell_type": "code",
   "execution_count": 14,
   "metadata": {
    "colab": {
     "base_uri": "https://localhost:8080/",
     "height": 80
    },
    "colab_type": "code",
    "id": "NRwtCub4Lx9Z",
    "outputId": "cf1a8f2c-d959-467e-ad67-9369a44a8dc6"
   },
   "outputs": [
    {
     "data": {
      "text/html": [
       "<div>\n",
       "<style scoped>\n",
       "    .dataframe tbody tr th:only-of-type {\n",
       "        vertical-align: middle;\n",
       "    }\n",
       "\n",
       "    .dataframe tbody tr th {\n",
       "        vertical-align: top;\n",
       "    }\n",
       "\n",
       "    .dataframe thead th {\n",
       "        text-align: right;\n",
       "    }\n",
       "</style>\n",
       "<table border=\"1\" class=\"dataframe\">\n",
       "  <thead>\n",
       "    <tr style=\"text-align: right;\">\n",
       "      <th></th>\n",
       "      <th>Texto</th>\n",
       "      <th>nv_Texto</th>\n",
       "    </tr>\n",
       "  </thead>\n",
       "  <tbody>\n",
       "    <tr>\n",
       "      <th>13</th>\n",
       "      <td>Quantidade de ocorrências por estado relaciona...</td>\n",
       "      <td>Quantidade de ocorrências por estado relaciona...</td>\n",
       "    </tr>\n",
       "    <tr>\n",
       "      <th>20</th>\n",
       "      <td>Qual é a evolução acumulada de casos de covid ...</td>\n",
       "      <td>Qual é a evolução acumulada de casos de covid ...</td>\n",
       "    </tr>\n",
       "    <tr>\n",
       "      <th>37</th>\n",
       "      <td>Evolução diária de covid, média móvel</td>\n",
       "      <td>Evolução diária de covid  média móvel</td>\n",
       "    </tr>\n",
       "    <tr>\n",
       "      <th>38</th>\n",
       "      <td>Acúmulo de casos de covid por país, por dia</td>\n",
       "      <td>Acúmulo de casos de covid por país  por dia</td>\n",
       "    </tr>\n",
       "    <tr>\n",
       "      <th>80</th>\n",
       "      <td>dados do perfil de consumo no Brasil pré, dura...</td>\n",
       "      <td>dados do perfil de consumo no Brasil pré  dura...</td>\n",
       "    </tr>\n",
       "    <tr>\n",
       "      <th>81</th>\n",
       "      <td>informações sobre os brasileiros pré, durante ...</td>\n",
       "      <td>informações sobre os brasileiros pré  durante ...</td>\n",
       "    </tr>\n",
       "    <tr>\n",
       "      <th>127</th>\n",
       "      <td>números de tratamentos, tanto de Quimioterapia...</td>\n",
       "      <td>números de tratamentos  tanto de Quimioterapia...</td>\n",
       "    </tr>\n",
       "    <tr>\n",
       "      <th>133</th>\n",
       "      <td>Dados sobre oncologia antes, durante e depois ...</td>\n",
       "      <td>Dados sobre oncologia antes  durante e depois ...</td>\n",
       "    </tr>\n",
       "    <tr>\n",
       "      <th>140</th>\n",
       "      <td>Lei Maria da Penha, n. 11.340, de 7 de agosto ...</td>\n",
       "      <td>Lei Maria da Penha  n  11 340  de 7 de agosto ...</td>\n",
       "    </tr>\n",
       "    <tr>\n",
       "      <th>141</th>\n",
       "      <td>cinco tipos de violência doméstica e familiar ...</td>\n",
       "      <td>cinco tipos de violência doméstica e familiar ...</td>\n",
       "    </tr>\n",
       "    <tr>\n",
       "      <th>147</th>\n",
       "      <td>a quantidade de estupro, lesão corporal dolosa...</td>\n",
       "      <td>a quantidade de estupro  lesão corporal dolosa...</td>\n",
       "    </tr>\n",
       "  </tbody>\n",
       "</table>\n",
       "</div>"
      ],
      "text/plain": [
       "                                                 Texto  \\\n",
       "13   Quantidade de ocorrências por estado relaciona...   \n",
       "20   Qual é a evolução acumulada de casos de covid ...   \n",
       "37               Evolução diária de covid, média móvel   \n",
       "38         Acúmulo de casos de covid por país, por dia   \n",
       "80   dados do perfil de consumo no Brasil pré, dura...   \n",
       "81   informações sobre os brasileiros pré, durante ...   \n",
       "127  números de tratamentos, tanto de Quimioterapia...   \n",
       "133  Dados sobre oncologia antes, durante e depois ...   \n",
       "140  Lei Maria da Penha, n. 11.340, de 7 de agosto ...   \n",
       "141  cinco tipos de violência doméstica e familiar ...   \n",
       "147  a quantidade de estupro, lesão corporal dolosa...   \n",
       "\n",
       "                                              nv_Texto  \n",
       "13   Quantidade de ocorrências por estado relaciona...  \n",
       "20   Qual é a evolução acumulada de casos de covid ...  \n",
       "37               Evolução diária de covid  média móvel  \n",
       "38         Acúmulo de casos de covid por país  por dia  \n",
       "80   dados do perfil de consumo no Brasil pré  dura...  \n",
       "81   informações sobre os brasileiros pré  durante ...  \n",
       "127  números de tratamentos  tanto de Quimioterapia...  \n",
       "133  Dados sobre oncologia antes  durante e depois ...  \n",
       "140  Lei Maria da Penha  n  11 340  de 7 de agosto ...  \n",
       "141  cinco tipos de violência doméstica e familiar ...  \n",
       "147  a quantidade de estupro  lesão corporal dolosa...  "
      ]
     },
     "execution_count": 14,
     "metadata": {},
     "output_type": "execute_result"
    }
   ],
   "source": [
    "df['nv_Texto'] = df['nv_Texto'].str.replace('[,.:;!?]+', ' ', regex=True).copy()\n",
    "df[['Texto','nv_Texto']][df['Texto'].str.contains(',')]"
   ]
  },
  {
   "cell_type": "markdown",
   "metadata": {
    "colab_type": "text",
    "id": "PWGOLESG7HNo"
   },
   "source": [
    "## Caracteres Especiais"
   ]
  },
  {
   "cell_type": "code",
   "execution_count": 18,
   "metadata": {
    "colab": {
     "base_uri": "https://localhost:8080/",
     "height": 266
    },
    "colab_type": "code",
    "id": "ujwadI4cNLgP",
    "outputId": "15431454-65be-4f12-c579-df4a86ceb0cb"
   },
   "outputs": [
    {
     "data": {
      "text/html": [
       "<div>\n",
       "<style scoped>\n",
       "    .dataframe tbody tr th:only-of-type {\n",
       "        vertical-align: middle;\n",
       "    }\n",
       "\n",
       "    .dataframe tbody tr th {\n",
       "        vertical-align: top;\n",
       "    }\n",
       "\n",
       "    .dataframe thead th {\n",
       "        text-align: right;\n",
       "    }\n",
       "</style>\n",
       "<table border=\"1\" class=\"dataframe\">\n",
       "  <thead>\n",
       "    <tr style=\"text-align: right;\">\n",
       "      <th></th>\n",
       "      <th>Texto</th>\n",
       "      <th>nv_Texto</th>\n",
       "    </tr>\n",
       "  </thead>\n",
       "  <tbody>\n",
       "    <tr>\n",
       "      <th>29</th>\n",
       "      <td>Informações sobre COVID-19</td>\n",
       "      <td>Informações sobre COVID</td>\n",
       "    </tr>\n",
       "    <tr>\n",
       "      <th>30</th>\n",
       "      <td>Dados sobre COVID-19 no Brasil</td>\n",
       "      <td>Dados sobre COVID  no Brasil</td>\n",
       "    </tr>\n",
       "    <tr>\n",
       "      <th>84</th>\n",
       "      <td>Os impactos da crise financeira internacional ...</td>\n",
       "      <td>Os impactos da crise financeira internacional ...</td>\n",
       "    </tr>\n",
       "    <tr>\n",
       "      <th>90</th>\n",
       "      <td>dados socioeconômicos segundo o plano de fundo...</td>\n",
       "      <td>dados socioeconômicos segundo o plano de fundo...</td>\n",
       "    </tr>\n",
       "    <tr>\n",
       "      <th>100</th>\n",
       "      <td>eficiência do SUS no controle da pandemia de C...</td>\n",
       "      <td>eficiência do SUS no controle da pandemia de C...</td>\n",
       "    </tr>\n",
       "  </tbody>\n",
       "</table>\n",
       "</div>"
      ],
      "text/plain": [
       "                                                 Texto  \\\n",
       "29                          Informações sobre COVID-19   \n",
       "30                      Dados sobre COVID-19 no Brasil   \n",
       "84   Os impactos da crise financeira internacional ...   \n",
       "90   dados socioeconômicos segundo o plano de fundo...   \n",
       "100  eficiência do SUS no controle da pandemia de C...   \n",
       "\n",
       "                                              nv_Texto  \n",
       "29                            Informações sobre COVID   \n",
       "30                        Dados sobre COVID  no Brasil  \n",
       "84   Os impactos da crise financeira internacional ...  \n",
       "90   dados socioeconômicos segundo o plano de fundo...  \n",
       "100  eficiência do SUS no controle da pandemia de C...  "
      ]
     },
     "execution_count": 18,
     "metadata": {},
     "output_type": "execute_result"
    }
   ],
   "source": [
    "df['nv_Texto'] = df['nv_Texto'].str.replace('[/<>()|\\+\\-\\$%&#@\\'\\\"]+', ' ', regex=True).copy()\n",
    "df[['Texto','nv_Texto']][df['Texto'].str.contains('-')]"
   ]
  },
  {
   "cell_type": "markdown",
   "metadata": {
    "colab_type": "text",
    "id": "J37B8lNa7LtM"
   },
   "source": [
    "## Números"
   ]
  },
  {
   "cell_type": "code",
   "execution_count": 19,
   "metadata": {
    "colab": {
     "base_uri": "https://localhost:8080/",
     "height": 111
    },
    "colab_type": "code",
    "id": "8M_MoBkAZ2ej",
    "outputId": "d633010a-a18d-4df2-ebfe-d82d20a0e592"
   },
   "outputs": [
    {
     "data": {
      "text/html": [
       "<div>\n",
       "<style scoped>\n",
       "    .dataframe tbody tr th:only-of-type {\n",
       "        vertical-align: middle;\n",
       "    }\n",
       "\n",
       "    .dataframe tbody tr th {\n",
       "        vertical-align: top;\n",
       "    }\n",
       "\n",
       "    .dataframe thead th {\n",
       "        text-align: right;\n",
       "    }\n",
       "</style>\n",
       "<table border=\"1\" class=\"dataframe\">\n",
       "  <thead>\n",
       "    <tr style=\"text-align: right;\">\n",
       "      <th></th>\n",
       "      <th>Texto</th>\n",
       "      <th>nv_Texto</th>\n",
       "    </tr>\n",
       "  </thead>\n",
       "  <tbody>\n",
       "    <tr>\n",
       "      <th>140</th>\n",
       "      <td>Lei Maria da Penha, n. 11.340, de 7 de agosto ...</td>\n",
       "      <td>Lei Maria da Penha  n     de  de agosto de</td>\n",
       "    </tr>\n",
       "  </tbody>\n",
       "</table>\n",
       "</div>"
      ],
      "text/plain": [
       "                                                 Texto  \\\n",
       "140  Lei Maria da Penha, n. 11.340, de 7 de agosto ...   \n",
       "\n",
       "                                        nv_Texto  \n",
       "140  Lei Maria da Penha  n     de  de agosto de   "
      ]
     },
     "execution_count": 19,
     "metadata": {},
     "output_type": "execute_result"
    }
   ],
   "source": [
    "df['nv_Texto'] = df['nv_Texto'].str.replace('[0-9]+', '', regex=True)\n",
    "df[['Texto','nv_Texto']][df['Texto'].str.contains('7')]"
   ]
  },
  {
   "cell_type": "markdown",
   "metadata": {
    "colab_type": "text",
    "id": "LYaCQCUS7PEn"
   },
   "source": [
    "## Stop Words"
   ]
  },
  {
   "cell_type": "code",
   "execution_count": 20,
   "metadata": {
    "colab": {
     "base_uri": "https://localhost:8080/",
     "height": 171
    },
    "colab_type": "code",
    "id": "yNZP2yWcPyax",
    "outputId": "624da4f5-7554-4adb-d93c-418756fbdb0d"
   },
   "outputs": [
    {
     "data": {
      "text/plain": [
       "\"['de', 'a', 'o', 'que', 'e', 'é', 'do', 'da', 'em', 'um', 'para', 'com', 'não', 'uma', 'os', 'no', 'se', 'na', 'por', 'mais', 'as', 'dos', 'como', 'mas', 'ao', 'ele', 'das', 'à', 'seu', 'sua', 'ou', 'quando', 'muito', 'nos', 'já', 'eu', 'também', 'só', 'pelo', 'pela', 'até', 'isso', 'ela', 'entre', 'depois', 'sem', 'mesmo', 'aos', 'seus', 'quem', 'nas', 'me', 'esse', 'eles', 'você', 'essa', 'num', 'nem', 'suas', 'meu', 'às', 'minha', 'numa', 'pelos', 'elas', 'qual', 'nós', 'lhe', 'deles', 'essas', 'esses', 'pelas', 'este', 'dele', 'tu', 'te', 'vocês', 'vos', 'lhes', 'meus', 'minhas', 'teu', 'tua', 'teus', 'tuas', 'nosso', 'nossa', 'nossos', 'nossas', 'dela', 'delas', 'esta', 'estes', 'estas', 'aquele', 'aquela', 'aqueles', 'aquelas', 'isto', 'aquilo', 'estou', 'está', 'estamos', 'estão', 'estive', 'esteve', 'estivemos', 'estiveram', 'estava', 'estávamos', 'estavam', 'estivera', 'estivéramos', 'esteja', 'estejamos', 'estejam', 'estivesse', 'estivéssemos', 'estivessem', 'estiver', 'estivermos', 'estiverem', 'hei', 'há', 'havemos', 'hão', 'houve', 'houvemos', 'houveram', 'houvera', 'houvéramos', 'haja', 'hajamos', 'hajam', 'houvesse', 'houvéssemos', 'houvessem', 'houver', 'houvermos', 'houverem', 'houverei', 'houverá', 'houveremos', 'houverão', 'houveria', 'houveríamos', 'houveriam', 'sou', 'somos', 'são', 'era', 'éramos', 'eram', 'fui', 'foi', 'fomos', 'foram', 'fora', 'fôramos', 'seja', 'sejamos', 'sejam', 'fosse', 'fôssemos', 'fossem', 'for', 'formos', 'forem', 'serei', 'será', 'seremos', 'serão', 'seria', 'seríamos', 'seriam', 'tenho', 'tem', 'temos', 'tém', 'tinha', 'tínhamos', 'tinham', 'tive', 'teve', 'tivemos', 'tiveram', 'tivera', 'tivéramos', 'tenha', 'tenhamos', 'tenham', 'tivesse', 'tivéssemos', 'tivessem', 'tiver', 'tivermos', 'tiverem', 'terei', 'terá', 'teremos', 'terão', 'teria', 'teríamos', 'teriam']\""
      ]
     },
     "execution_count": 20,
     "metadata": {},
     "output_type": "execute_result"
    }
   ],
   "source": [
    "str(stopwords.words('portuguese'))"
   ]
  },
  {
   "cell_type": "code",
   "execution_count": 21,
   "metadata": {
    "colab": {},
    "colab_type": "code",
    "id": "8VV_8vOoaYID"
   },
   "outputs": [],
   "source": [
    "stop_words = stopwords.words('portuguese')"
   ]
  },
  {
   "cell_type": "markdown",
   "metadata": {
    "colab_type": "text",
    "id": "JO6EYIv57R6u"
   },
   "source": [
    "## Tokenização"
   ]
  },
  {
   "cell_type": "code",
   "execution_count": 22,
   "metadata": {
    "colab": {
     "base_uri": "https://localhost:8080/",
     "height": 34
    },
    "colab_type": "code",
    "id": "32_Bifbt6QeN",
    "outputId": "9541c520-da42-4a7e-bc18-9325aeb80a5c"
   },
   "outputs": [
    {
     "data": {
      "text/plain": [
       "['Texto', 'exemplo', 'tokenização']"
      ]
     },
     "execution_count": 22,
     "metadata": {},
     "output_type": "execute_result"
    }
   ],
   "source": [
    "# Não faz parte do problema, somente para visualização\n",
    "frase = 'Texto exemplo tokenização'\n",
    "nltk.word_tokenize(frase)"
   ]
  },
  {
   "cell_type": "markdown",
   "metadata": {
    "colab_type": "text",
    "id": "2q5MuAkA7U68"
   },
   "source": [
    "## CountVectorizer"
   ]
  },
  {
   "cell_type": "code",
   "execution_count": 23,
   "metadata": {
    "colab": {},
    "colab_type": "code",
    "id": "qM6HMnte_-fo"
   },
   "outputs": [],
   "source": [
    "# Criação da função CountVectorizer\n",
    "cvt = CountVectorizer(strip_accents='ascii', lowercase=True, stop_words=stop_words)"
   ]
  },
  {
   "cell_type": "code",
   "execution_count": 24,
   "metadata": {
    "colab": {
     "base_uri": "https://localhost:8080/",
     "height": 51
    },
    "colab_type": "code",
    "id": "8zDyD2fn_xDu",
    "outputId": "3b3dcbfe-433c-45c2-fc19-fb416455d6bd"
   },
   "outputs": [
    {
     "data": {
      "text/plain": [
       "array(['dia nacional do combate às drogas e ao alcoolismo',\n",
       "       'abuso de álcool e drogas como problema de saúde pública'],\n",
       "      dtype=object)"
      ]
     },
     "execution_count": 24,
     "metadata": {},
     "output_type": "execute_result"
    }
   ],
   "source": [
    "# Não faz parte do problema, somente para visualização\n",
    "# Seleção de dois itens da nossa base de dados\n",
    "exemplo_descricao = df['nv_Texto'][:2]\n",
    "exemplo_descricao.values"
   ]
  },
  {
   "cell_type": "code",
   "execution_count": 25,
   "metadata": {
    "colab": {
     "base_uri": "https://localhost:8080/",
     "height": 51
    },
    "colab_type": "code",
    "id": "-HgJkr_T_xWa",
    "outputId": "0a529cce-8635-4b4f-b0c9-564255da5e81"
   },
   "outputs": [
    {
     "name": "stderr",
     "output_type": "stream",
     "text": [
      "/home/dias/.local/lib/python3.8/site-packages/sklearn/feature_extraction/text.py:388: UserWarning: Your stop_words may be inconsistent with your preprocessing. Tokenizing the stop words generated tokens ['ate', 'eramos', 'estao', 'estavamos', 'estiveramos', 'estivessemos', 'foramos', 'fossemos', 'ha', 'hao', 'houveramos', 'houverao', 'houveriamos', 'houvessemos', 'ja', 'nao', 'sao', 'sera', 'serao', 'seriamos', 'so', 'tambem', 'tera', 'terao', 'teriamos', 'tinhamos', 'tiveramos', 'tivessemos', 'voce', 'voces'] not in stop_words.\n",
      "  warnings.warn('Your stop_words may be inconsistent with '\n"
     ]
    },
    {
     "data": {
      "text/plain": [
       "array([[0, 0, 1, 1, 1, 1, 1, 0, 0, 0],\n",
       "       [1, 1, 0, 0, 0, 1, 0, 1, 1, 1]])"
      ]
     },
     "execution_count": 25,
     "metadata": {},
     "output_type": "execute_result"
    }
   ],
   "source": [
    "# Não faz parte do problema, somente para visualização\n",
    "# Transformação dos dois itens em vetores binários\n",
    "exemplo_descricao_cvt = cvt.fit_transform(exemplo_descricao)\n",
    "exemplo_descricao_cvt.toarray()"
   ]
  },
  {
   "cell_type": "code",
   "execution_count": 26,
   "metadata": {
    "colab": {},
    "colab_type": "code",
    "id": "RJ3ygcpcaqsX"
   },
   "outputs": [],
   "source": [
    "X_cvt = cvt.fit_transform(df['nv_Texto'])"
   ]
  },
  {
   "cell_type": "code",
   "execution_count": 27,
   "metadata": {
    "colab": {},
    "colab_type": "code",
    "id": "kwr4BveN_60f"
   },
   "outputs": [],
   "source": [
    "# Criação da função TfidfTransformer\n",
    "tfi = TfidfTransformer(use_idf=True)"
   ]
  },
  {
   "cell_type": "code",
   "execution_count": 28,
   "metadata": {
    "colab": {
     "base_uri": "https://localhost:8080/",
     "height": 85
    },
    "colab_type": "code",
    "id": "TVdNW3Lj_0Va",
    "outputId": "800e6bf7-9b85-4a8f-d326-f4e571d18183"
   },
   "outputs": [
    {
     "data": {
      "text/plain": [
       "array([[0.        , 0.        , 0.47107781, 0.47107781, 0.47107781,\n",
       "        0.33517574, 0.47107781, 0.        , 0.        , 0.        ],\n",
       "       [0.4261596 , 0.4261596 , 0.        , 0.        , 0.        ,\n",
       "        0.30321606, 0.        , 0.4261596 , 0.4261596 , 0.4261596 ]])"
      ]
     },
     "execution_count": 28,
     "metadata": {},
     "output_type": "execute_result"
    }
   ],
   "source": [
    "# Não faz parte do problema, somente para visualização\n",
    "# Transformação dos exemplos com a normalização tf-idf\n",
    "exemplo_descricao_tfi = tfi.fit_transform(exemplo_descricao_cvt)\n",
    "exemplo_descricao_tfi.toarray()"
   ]
  },
  {
   "cell_type": "code",
   "execution_count": 29,
   "metadata": {
    "colab": {},
    "colab_type": "code",
    "id": "1yAxm8o5bZJ_"
   },
   "outputs": [],
   "source": [
    "X_tfi = tfi.fit_transform(X_cvt)"
   ]
  },
  {
   "cell_type": "code",
   "execution_count": 30,
   "metadata": {
    "colab": {},
    "colab_type": "code",
    "id": "8ILuFPDmbmAh"
   },
   "outputs": [],
   "source": [
    "# A entrada será a transformação de vetores com a normalização tf-idf\n",
    "entrada = X_tfi\n",
    "# A saida será os departamentos\n",
    "saida = df['Classificação']\n",
    "# Separando 20% dos dados para teste\n",
    "X_train, X_test, y_train, y_test = train_test_split(entrada, saida, test_size=0.3)"
   ]
  },
  {
   "cell_type": "markdown",
   "metadata": {
    "colab_type": "text",
    "id": "-GuR9sOdt-rR"
   },
   "source": [
    "## Modelo LinearSVC"
   ]
  },
  {
   "cell_type": "code",
   "execution_count": 31,
   "metadata": {
    "colab": {
     "base_uri": "https://localhost:8080/",
     "height": 85
    },
    "colab_type": "code",
    "id": "3sKGFVOeb7A9",
    "outputId": "181cf909-9e02-44ff-a905-813948e8c6d0"
   },
   "outputs": [
    {
     "data": {
      "text/plain": [
       "LinearSVC()"
      ]
     },
     "execution_count": 31,
     "metadata": {},
     "output_type": "execute_result"
    }
   ],
   "source": [
    "# Criando modelo\n",
    "clf = LinearSVC()\n",
    "# Treinamento do modelo\n",
    "clf.fit(X_train, y_train)"
   ]
  },
  {
   "cell_type": "markdown",
   "metadata": {
    "colab_type": "text",
    "id": "FFwyE9pAuDn0"
   },
   "source": [
    "## Predição e avaliação do modelo"
   ]
  },
  {
   "cell_type": "code",
   "execution_count": 32,
   "metadata": {
    "colab": {
     "base_uri": "https://localhost:8080/",
     "height": 34
    },
    "colab_type": "code",
    "id": "KJRAQLEPcKAD",
    "outputId": "1f50db6e-e1b1-4020-f0cb-d21ff248d289"
   },
   "outputs": [
    {
     "name": "stdout",
     "output_type": "stream",
     "text": [
      "Acurácia: 0.92\n"
     ]
    }
   ],
   "source": [
    "# Realizando a predição\n",
    "resultado = clf.predict(X_test)\n",
    "# Avaliando o modelo\n",
    "print('Acurácia: {:.2f}'.format(metrics.accuracy_score(y_test, resultado)))"
   ]
  },
  {
   "cell_type": "code",
   "execution_count": 34,
   "metadata": {
    "colab": {
     "base_uri": "https://localhost:8080/",
     "height": 1000
    },
    "colab_type": "code",
    "id": "SV4pjQ65bXtJ",
    "outputId": "02491b3a-b6d1-4b11-c46a-093d4378d91a"
   },
   "outputs": [
    {
     "name": "stdout",
     "output_type": "stream",
     "text": [
      "                              precision    recall  f1-score   support\n",
      "\n",
      "           Consumo de Álcool       0.86      1.00      0.92         6\n",
      "                       Covid       0.86      1.00      0.92         6\n",
      "            Doação de Sangue       1.00      1.00      1.00         7\n",
      "                  Hepatite C       0.80      1.00      0.89         4\n",
      "Perfil de Consumo Brasileiro       1.00      0.56      0.71         9\n",
      "                         SUS       1.00      1.00      1.00         7\n",
      "     Tratamentos Oncológicos       1.00      1.00      1.00         3\n",
      "     Violência Contra Mulher       0.86      1.00      0.92         6\n",
      "\n",
      "                    accuracy                           0.92        48\n",
      "                   macro avg       0.92      0.94      0.92        48\n",
      "                weighted avg       0.93      0.92      0.91        48\n",
      "\n"
     ]
    }
   ],
   "source": [
    "# Avaliação completa\n",
    "print(metrics.classification_report(y_test, resultado))"
   ]
  },
  {
   "cell_type": "markdown",
   "metadata": {
    "colab_type": "text",
    "id": "Xya6qHGUuIGL"
   },
   "source": [
    "## Utilização do modelo"
   ]
  },
  {
   "cell_type": "markdown",
   "metadata": {
    "colab_type": "text",
    "id": "glPX-gZyuLwr"
   },
   "source": [
    "A função para utilização do modelo, recebe uma descrição e retorna o departamento para essa descrição.\n"
   ]
  },
  {
   "cell_type": "code",
   "execution_count": 35,
   "metadata": {
    "colab": {},
    "colab_type": "code",
    "id": "sbEB0-E5dwlc"
   },
   "outputs": [],
   "source": [
    "def novo_texto(nv_Texto):\n",
    "  novo_cvt = cvt.transform(pd.Series(nv_Texto))\n",
    "  novo_tfi = tfi.transform(novo_cvt)\n",
    "  classificacao = clf.predict(novo_tfi)[0]\n",
    "  return classificacao"
   ]
  },
  {
   "cell_type": "markdown",
   "metadata": {
    "colab_type": "text",
    "id": "e3QxsHVfuQip"
   },
   "source": [
    "No final o nosso resultado mostrando (Produto: descrição informada Departamento: departamento previsto). Portanto, podemos ver a assertividade do nosso modelo na prática."
   ]
  },
  {
   "cell_type": "code",
   "execution_count": 36,
   "metadata": {
    "colab": {
     "base_uri": "https://localhost:8080/",
     "height": 68
    },
    "colab_type": "code",
    "id": "ZYNPwgKfct0A",
    "outputId": "116a37ab-7d83-4c31-9b24-b4e0e438fc5d"
   },
   "outputs": [
    {
     "name": "stdout",
     "output_type": "stream",
     "text": [
      "Texto: Dados sobre Cancer Classificação: Tratamentos Oncológicos\n",
      "Texto: Dados sobre consumo de bebidas Classificação: Consumo de Álcool\n"
     ]
    }
   ],
   "source": [
    "# Lista de exemplos de novos produtos\n",
    "Textos = ['Dados sobre Cancer','Dados sobre consumo de bebidas']\n",
    "# Loop for para fazer a predição do departamento de novos produtos\n",
    "for Texto in Textos:\n",
    "  print('Texto:', Texto, 'Classificação:', novo_texto(Texto))"
   ]
  },
  {
   "cell_type": "markdown",
   "metadata": {},
   "source": [
    "## Criando Pipeline do modelo"
   ]
  },
  {
   "cell_type": "code",
   "execution_count": 37,
   "metadata": {},
   "outputs": [],
   "source": [
    "entrada = df['nv_Texto']\n",
    "# A saida será os departamentos\n",
    "saida = df['Classificação']\n",
    "\n",
    "X_train, X_test, y_train, y_test = train_test_split(entrada, saida, test_size=0.3)\n",
    "\n",
    "pipe = Pipeline([\n",
    "                ('cvt', CountVectorizer(strip_accents='ascii', lowercase=True, stop_words=stop_words)), \n",
    "                ('tfi', TfidfTransformer(use_idf=True)), \n",
    "                ('clf', LinearSVC())\n",
    "                ])"
   ]
  },
  {
   "cell_type": "code",
   "execution_count": 38,
   "metadata": {},
   "outputs": [
    {
     "name": "stderr",
     "output_type": "stream",
     "text": [
      "/home/dias/.local/lib/python3.8/site-packages/sklearn/feature_extraction/text.py:388: UserWarning: Your stop_words may be inconsistent with your preprocessing. Tokenizing the stop words generated tokens ['ate', 'eramos', 'estao', 'estavamos', 'estiveramos', 'estivessemos', 'foramos', 'fossemos', 'ha', 'hao', 'houveramos', 'houverao', 'houveriamos', 'houvessemos', 'ja', 'nao', 'sao', 'sera', 'serao', 'seriamos', 'so', 'tambem', 'tera', 'terao', 'teriamos', 'tinhamos', 'tiveramos', 'tivessemos', 'voce', 'voces'] not in stop_words.\n",
      "  warnings.warn('Your stop_words may be inconsistent with '\n"
     ]
    },
    {
     "data": {
      "text/plain": [
       "Pipeline(steps=[('cvt',\n",
       "                 CountVectorizer(stop_words=['de', 'a', 'o', 'que', 'e', 'é',\n",
       "                                             'do', 'da', 'em', 'um', 'para',\n",
       "                                             'com', 'não', 'uma', 'os', 'no',\n",
       "                                             'se', 'na', 'por', 'mais', 'as',\n",
       "                                             'dos', 'como', 'mas', 'ao', 'ele',\n",
       "                                             'das', 'à', 'seu', 'sua', ...],\n",
       "                                 strip_accents='ascii')),\n",
       "                ('tfi', TfidfTransformer()), ('clf', LinearSVC())])"
      ]
     },
     "execution_count": 38,
     "metadata": {},
     "output_type": "execute_result"
    }
   ],
   "source": [
    "pipe.fit(X_train, y_train)"
   ]
  },
  {
   "cell_type": "code",
   "execution_count": 39,
   "metadata": {},
   "outputs": [
    {
     "data": {
      "text/plain": [
       "0.9166666666666666"
      ]
     },
     "execution_count": 39,
     "metadata": {},
     "output_type": "execute_result"
    }
   ],
   "source": [
    "pipe.score(X_test, y_test)"
   ]
  },
  {
   "cell_type": "code",
   "execution_count": 40,
   "metadata": {},
   "outputs": [
    {
     "name": "stdout",
     "output_type": "stream",
     "text": [
      "Texto: Panorâma da violência contra a mulher Classificação: Violência Contra Mulher\n",
      "Texto: Dados sobre Cancer Classificação: Tratamentos Oncológicos\n",
      "Texto: Dados sobre consumo de bebidas Classificação: Consumo de Álcool\n"
     ]
    }
   ],
   "source": [
    "# Lista de exemplos de novos produtos\n",
    "Textos = ['Panorâma da violência contra a mulher','Dados sobre Cancer','Dados sobre consumo de bebidas']\n",
    "# Loop for para fazer a predição do departamento de novos produtos\n",
    "for Texto in Textos:\n",
    "  print('Texto:', Texto, 'Classificação:', pipe.predict([Texto])[0])"
   ]
  },
  {
   "cell_type": "markdown",
   "metadata": {},
   "source": [
    "## Exportando Pipeline do modelo"
   ]
  },
  {
   "cell_type": "code",
   "execution_count": 41,
   "metadata": {},
   "outputs": [
    {
     "data": {
      "text/plain": [
       "['classificador.joblib']"
      ]
     },
     "execution_count": 41,
     "metadata": {},
     "output_type": "execute_result"
    }
   ],
   "source": [
    "dump(pipe, 'classificador.joblib') "
   ]
  },
  {
   "cell_type": "markdown",
   "metadata": {},
   "source": [
    "## Load Pipeline do modelo"
   ]
  },
  {
   "cell_type": "code",
   "execution_count": 42,
   "metadata": {},
   "outputs": [],
   "source": [
    "classificador = load('classificador.joblib') "
   ]
  },
  {
   "cell_type": "code",
   "execution_count": 43,
   "metadata": {},
   "outputs": [
    {
     "name": "stdout",
     "output_type": "stream",
     "text": [
      "Texto: Panorâma da violência contra a mulher Classificação: Violência Contra Mulher\n",
      "Texto: Dados sobre doenças oncológicas Classificação: Tratamentos Oncológicos\n",
      "Texto: Dados sobre consumo de bebidas Classificação: Consumo de Álcool\n",
      "Texto: Covid no Brasil Classificação: Covid\n"
     ]
    },
    {
     "name": "stderr",
     "output_type": "stream",
     "text": [
      "/home/dias/.local/lib/python3.8/site-packages/sklearn/feature_extraction/text.py:388: UserWarning: Your stop_words may be inconsistent with your preprocessing. Tokenizing the stop words generated tokens ['ate', 'eramos', 'estao', 'estavamos', 'estiveramos', 'estivessemos', 'foramos', 'fossemos', 'ha', 'hao', 'houveramos', 'houverao', 'houveriamos', 'houvessemos', 'ja', 'nao', 'sao', 'sera', 'serao', 'seriamos', 'so', 'tambem', 'tera', 'terao', 'teriamos', 'tinhamos', 'tiveramos', 'tivessemos', 'voce', 'voces'] not in stop_words.\n",
      "  warnings.warn('Your stop_words may be inconsistent with '\n"
     ]
    }
   ],
   "source": [
    "# Lista de exemplos de novos produtos\n",
    "Textos = ['Panorâma da violência contra a mulher',\n",
    "          'Dados sobre doenças oncológicas',\n",
    "          'Dados sobre consumo de bebidas',\n",
    "          'Covid no Brasil']\n",
    "# Loop for para fazer a predição do departamento de novos produtos\n",
    "for Texto in Textos:\n",
    "  print('Texto:', Texto, 'Classificação:', classificador.predict([Texto])[0])"
   ]
  },
  {
   "cell_type": "markdown",
   "metadata": {},
   "source": [
    "## Action Rasa"
   ]
  },
  {
   "cell_type": "code",
   "execution_count": 44,
   "metadata": {},
   "outputs": [],
   "source": [
    "Texto = [{'Texto': 'Panorâma da violência# contra a mulher 2020!'}]"
   ]
  },
  {
   "cell_type": "code",
   "execution_count": 45,
   "metadata": {},
   "outputs": [
    {
     "data": {
      "text/html": [
       "<div>\n",
       "<style scoped>\n",
       "    .dataframe tbody tr th:only-of-type {\n",
       "        vertical-align: middle;\n",
       "    }\n",
       "\n",
       "    .dataframe tbody tr th {\n",
       "        vertical-align: top;\n",
       "    }\n",
       "\n",
       "    .dataframe thead th {\n",
       "        text-align: right;\n",
       "    }\n",
       "</style>\n",
       "<table border=\"1\" class=\"dataframe\">\n",
       "  <thead>\n",
       "    <tr style=\"text-align: right;\">\n",
       "      <th></th>\n",
       "      <th>Texto</th>\n",
       "    </tr>\n",
       "  </thead>\n",
       "  <tbody>\n",
       "    <tr>\n",
       "      <th>0</th>\n",
       "      <td>Panorâma da violência# contra a mulher 2020!</td>\n",
       "    </tr>\n",
       "  </tbody>\n",
       "</table>\n",
       "</div>"
      ],
      "text/plain": [
       "                                          Texto\n",
       "0  Panorâma da violência# contra a mulher 2020!"
      ]
     },
     "execution_count": 45,
     "metadata": {},
     "output_type": "execute_result"
    }
   ],
   "source": [
    "df_texto = pd.DataFrame(Texto)\n",
    "df_texto"
   ]
  },
  {
   "cell_type": "code",
   "execution_count": 46,
   "metadata": {},
   "outputs": [],
   "source": [
    "def limpa_texto(df_texto):\n",
    "    df_texto['nv_Texto'] = df_texto['Texto'].copy()\n",
    "    df_texto['nv_Texto'] = df_texto['nv_Texto'].str.replace('[,.:;!?]+', ' ', regex=True).copy()\n",
    "    df_texto['nv_Texto'] = df_texto['nv_Texto'].str.replace('[/<>()|\\+\\-\\$%&#@\\'\\\"]+', ' ', regex=True).copy()\n",
    "    df_texto['nv_Texto'] = df_texto['nv_Texto'].str.replace('[0-9]+', '', regex=True)\n",
    "    return df_texto"
   ]
  },
  {
   "cell_type": "code",
   "execution_count": 47,
   "metadata": {},
   "outputs": [
    {
     "data": {
      "text/html": [
       "<div>\n",
       "<style scoped>\n",
       "    .dataframe tbody tr th:only-of-type {\n",
       "        vertical-align: middle;\n",
       "    }\n",
       "\n",
       "    .dataframe tbody tr th {\n",
       "        vertical-align: top;\n",
       "    }\n",
       "\n",
       "    .dataframe thead th {\n",
       "        text-align: right;\n",
       "    }\n",
       "</style>\n",
       "<table border=\"1\" class=\"dataframe\">\n",
       "  <thead>\n",
       "    <tr style=\"text-align: right;\">\n",
       "      <th></th>\n",
       "      <th>Texto</th>\n",
       "      <th>nv_Texto</th>\n",
       "    </tr>\n",
       "  </thead>\n",
       "  <tbody>\n",
       "    <tr>\n",
       "      <th>0</th>\n",
       "      <td>Panorâma da violência# contra a mulher 2020!</td>\n",
       "      <td>Panorâma da violência  contra a mulher</td>\n",
       "    </tr>\n",
       "  </tbody>\n",
       "</table>\n",
       "</div>"
      ],
      "text/plain": [
       "                                          Texto  \\\n",
       "0  Panorâma da violência# contra a mulher 2020!   \n",
       "\n",
       "                                   nv_Texto  \n",
       "0  Panorâma da violência  contra a mulher    "
      ]
     },
     "execution_count": 47,
     "metadata": {},
     "output_type": "execute_result"
    }
   ],
   "source": [
    "df_texto = limpa_texto(df_texto)\n",
    "df_texto"
   ]
  },
  {
   "cell_type": "code",
   "execution_count": 48,
   "metadata": {},
   "outputs": [
    {
     "data": {
      "text/plain": [
       "0    Panorâma da violência  contra a mulher  \n",
       "Name: nv_Texto, dtype: object"
      ]
     },
     "execution_count": 48,
     "metadata": {},
     "output_type": "execute_result"
    }
   ],
   "source": [
    "df_texto['nv_Texto']"
   ]
  },
  {
   "cell_type": "code",
   "execution_count": 49,
   "metadata": {},
   "outputs": [
    {
     "data": {
      "text/plain": [
       "'Violência Contra Mulher'"
      ]
     },
     "execution_count": 49,
     "metadata": {},
     "output_type": "execute_result"
    }
   ],
   "source": [
    "classifica = classificador.predict(df_texto['nv_Texto'])[0]\n",
    "classifica"
   ]
  },
  {
   "cell_type": "code",
   "execution_count": 50,
   "metadata": {},
   "outputs": [
    {
     "data": {
      "text/plain": [
       "'Violência Doméstica em Tempos de Pandemia Violência Contra Mulheres'"
      ]
     },
     "execution_count": 50,
     "metadata": {},
     "output_type": "execute_result"
    }
   ],
   "source": [
    "titulo = df_classificador.query('Classificação == @classifica')['Título'].values[0]\n",
    "titulo"
   ]
  },
  {
   "cell_type": "code",
   "execution_count": 51,
   "metadata": {},
   "outputs": [
    {
     "data": {
      "text/plain": [
       "'https://healthlake.com.br/artigos/violencia-domestica-em-tempos-de-pandemia-violencia-contra-mulheres'"
      ]
     },
     "execution_count": 51,
     "metadata": {},
     "output_type": "execute_result"
    }
   ],
   "source": [
    "link = df_classificador.query('Classificação == @classifica')['Link'].values[0]\n",
    "link"
   ]
  },
  {
   "cell_type": "code",
   "execution_count": 52,
   "metadata": {},
   "outputs": [
    {
     "data": {
      "text/plain": [
       "'Título: Violência Doméstica em Tempos de Pandemia Violência Contra Mulheres, no link: https://healthlake.com.br/artigos/violencia-domestica-em-tempos-de-pandemia-violencia-contra-mulheres'"
      ]
     },
     "execution_count": 52,
     "metadata": {},
     "output_type": "execute_result"
    }
   ],
   "source": [
    "str_result = 'Título: ' + titulo + ', no link: ' + link\n",
    "str_result"
   ]
  },
  {
   "cell_type": "code",
   "execution_count": null,
   "metadata": {},
   "outputs": [],
   "source": []
  },
  {
   "cell_type": "code",
   "execution_count": null,
   "metadata": {},
   "outputs": [],
   "source": []
  }
 ],
 "metadata": {
  "colab": {
   "collapsed_sections": [],
   "name": "NLP com scikit-learn.ipynb",
   "provenance": [],
   "toc_visible": true
  },
  "kernelspec": {
   "display_name": "Python 3",
   "language": "python",
   "name": "python3"
  },
  "language_info": {
   "codemirror_mode": {
    "name": "ipython",
    "version": 3
   },
   "file_extension": ".py",
   "mimetype": "text/x-python",
   "name": "python",
   "nbconvert_exporter": "python",
   "pygments_lexer": "ipython3",
   "version": "3.8.10"
  }
 },
 "nbformat": 4,
 "nbformat_minor": 1
}
