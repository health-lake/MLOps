{
 "cells": [
  {
   "cell_type": "markdown",
   "metadata": {
    "colab_type": "text",
    "id": "BJElcCQ6DwXv"
   },
   "source": [
    "by [__Tiago Dias__](https://www.linkedin.com/in/diasctiago/) "
   ]
  },
  {
   "cell_type": "markdown",
   "metadata": {
    "colab_type": "text",
    "id": "t9eSPPRmUEby"
   },
   "source": [
    "# NLP com scikit-learn"
   ]
  },
  {
   "cell_type": "markdown",
   "metadata": {
    "colab_type": "text",
    "id": "4eakEWy_62vS"
   },
   "source": [
    "## Importando bibliotecas"
   ]
  },
  {
   "cell_type": "code",
   "execution_count": 88,
   "metadata": {
    "colab": {
     "base_uri": "https://localhost:8080/",
     "height": 85
    },
    "colab_type": "code",
    "id": "F5Tc6cI9Kvpj",
    "outputId": "88b2ba16-8163-4ea6-e5d2-1ea968cb51da"
   },
   "outputs": [
    {
     "name": "stderr",
     "output_type": "stream",
     "text": [
      "[nltk_data] Downloading package stopwords to\n",
      "[nltk_data]     C:\\Users\\tidias\\AppData\\Roaming\\nltk_data...\n",
      "[nltk_data]   Package stopwords is already up-to-date!\n",
      "[nltk_data] Downloading package punkt to\n",
      "[nltk_data]     C:\\Users\\tidias\\AppData\\Roaming\\nltk_data...\n",
      "[nltk_data]   Package punkt is already up-to-date!\n"
     ]
    }
   ],
   "source": [
    "import pandas as pd\n",
    "import numpy as np\n",
    "import nltk\n",
    "from nltk.corpus import stopwords\n",
    "nltk.download('stopwords')\n",
    "nltk.download('punkt')\n",
    "from sklearn.feature_extraction.text import CountVectorizer, TfidfTransformer\n",
    "from sklearn.svm import LinearSVC\n",
    "from sklearn import metrics\n",
    "from sklearn.model_selection import train_test_split\n",
    "from sklearn.pipeline import Pipeline\n",
    "from joblib import dump, load\n",
    "import matplotlib.pyplot as plt\n",
    "#from wordcloud import WordCloud\n"
   ]
  },
  {
   "cell_type": "markdown",
   "metadata": {
    "colab_type": "text",
    "id": "_-re6wFx668E"
   },
   "source": [
    "## Carregando dataset"
   ]
  },
  {
   "cell_type": "code",
   "execution_count": 89,
   "metadata": {
    "colab": {
     "base_uri": "https://localhost:8080/",
     "height": 111
    },
    "colab_type": "code",
    "id": "h8giii59K9Aq",
    "outputId": "1caa7dbc-e461-4bfc-b1b6-d5469aad6283"
   },
   "outputs": [
    {
     "data": {
      "text/html": [
       "<div>\n",
       "<style scoped>\n",
       "    .dataframe tbody tr th:only-of-type {\n",
       "        vertical-align: middle;\n",
       "    }\n",
       "\n",
       "    .dataframe tbody tr th {\n",
       "        vertical-align: top;\n",
       "    }\n",
       "\n",
       "    .dataframe thead th {\n",
       "        text-align: right;\n",
       "    }\n",
       "</style>\n",
       "<table border=\"1\" class=\"dataframe\">\n",
       "  <thead>\n",
       "    <tr style=\"text-align: right;\">\n",
       "      <th></th>\n",
       "      <th>Texto</th>\n",
       "      <th>Classificação</th>\n",
       "      <th>Título</th>\n",
       "      <th>Link</th>\n",
       "    </tr>\n",
       "  </thead>\n",
       "  <tbody>\n",
       "    <tr>\n",
       "      <th>0</th>\n",
       "      <td>Lei Maria da Penha, n. 11.340, de 7 de agosto ...</td>\n",
       "      <td>Violência Contra Mulher</td>\n",
       "      <td>Violência Doméstica em Tempos de Pandemia Viol...</td>\n",
       "      <td>https://healthlake.com.br/artigos/violencia-do...</td>\n",
       "    </tr>\n",
       "    <tr>\n",
       "      <th>1</th>\n",
       "      <td>cinco tipos de violência doméstica e familiar ...</td>\n",
       "      <td>Violência Contra Mulher</td>\n",
       "      <td>Violência Doméstica em Tempos de Pandemia Viol...</td>\n",
       "      <td>https://healthlake.com.br/artigos/violencia-do...</td>\n",
       "    </tr>\n",
       "  </tbody>\n",
       "</table>\n",
       "</div>"
      ],
      "text/plain": [
       "                                               Texto            Classificação  \\\n",
       "0  Lei Maria da Penha, n. 11.340, de 7 de agosto ...  Violência Contra Mulher   \n",
       "1  cinco tipos de violência doméstica e familiar ...  Violência Contra Mulher   \n",
       "\n",
       "                                              Título  \\\n",
       "0  Violência Doméstica em Tempos de Pandemia Viol...   \n",
       "1  Violência Doméstica em Tempos de Pandemia Viol...   \n",
       "\n",
       "                                                Link  \n",
       "0  https://healthlake.com.br/artigos/violencia-do...  \n",
       "1  https://healthlake.com.br/artigos/violencia-do...  "
      ]
     },
     "execution_count": 89,
     "metadata": {},
     "output_type": "execute_result"
    }
   ],
   "source": [
    "df = pd.read_csv('catalogo.csv',delimiter=';')\n",
    "df.head(2)"
   ]
  },
  {
   "cell_type": "markdown",
   "metadata": {},
   "source": [
    "## Possíveis classificações"
   ]
  },
  {
   "cell_type": "code",
   "execution_count": 90,
   "metadata": {},
   "outputs": [
    {
     "data": {
      "text/html": [
       "<div>\n",
       "<style scoped>\n",
       "    .dataframe tbody tr th:only-of-type {\n",
       "        vertical-align: middle;\n",
       "    }\n",
       "\n",
       "    .dataframe tbody tr th {\n",
       "        vertical-align: top;\n",
       "    }\n",
       "\n",
       "    .dataframe thead th {\n",
       "        text-align: right;\n",
       "    }\n",
       "</style>\n",
       "<table border=\"1\" class=\"dataframe\">\n",
       "  <thead>\n",
       "    <tr style=\"text-align: right;\">\n",
       "      <th></th>\n",
       "      <th>Classificação</th>\n",
       "      <th>Título</th>\n",
       "      <th>Link</th>\n",
       "    </tr>\n",
       "  </thead>\n",
       "  <tbody>\n",
       "    <tr>\n",
       "      <th>0</th>\n",
       "      <td>Violência Contra Mulher</td>\n",
       "      <td>Violência Doméstica em Tempos de Pandemia Viol...</td>\n",
       "      <td>https://healthlake.com.br/artigos/violencia-do...</td>\n",
       "    </tr>\n",
       "    <tr>\n",
       "      <th>1</th>\n",
       "      <td>Consumo de Álcool</td>\n",
       "      <td>Um panorama através da pandemia do Covid-19</td>\n",
       "      <td>https://healthlake.com.br/artigos/consumo-de-a...</td>\n",
       "    </tr>\n",
       "    <tr>\n",
       "      <th>2</th>\n",
       "      <td>Tratamentos Oncológicos</td>\n",
       "      <td>Os Danos Silenciosos da COVID-19</td>\n",
       "      <td>https://healthlake.com.br/artigos/os-danos-sil...</td>\n",
       "    </tr>\n",
       "    <tr>\n",
       "      <th>3</th>\n",
       "      <td>Covid</td>\n",
       "      <td>Casos de COVID-19 no Brasil</td>\n",
       "      <td>https://public.tableau.com/profile/rcsalgueiro...</td>\n",
       "    </tr>\n",
       "    <tr>\n",
       "      <th>4</th>\n",
       "      <td>Covid</td>\n",
       "      <td>Evolução de mortes causadas pelo COVID-19 em 2020</td>\n",
       "      <td>https://public.tableau.com/profile/health.lake...</td>\n",
       "    </tr>\n",
       "    <tr>\n",
       "      <th>5</th>\n",
       "      <td>Consumo de Álcool</td>\n",
       "      <td>Análise Fevereiro – Alcoolismo</td>\n",
       "      <td>https://public.tableau.com/profile/health.lake...</td>\n",
       "    </tr>\n",
       "  </tbody>\n",
       "</table>\n",
       "</div>"
      ],
      "text/plain": [
       "             Classificação                                             Título  \\\n",
       "0  Violência Contra Mulher  Violência Doméstica em Tempos de Pandemia Viol...   \n",
       "1        Consumo de Álcool        Um panorama através da pandemia do Covid-19   \n",
       "2  Tratamentos Oncológicos                   Os Danos Silenciosos da COVID-19   \n",
       "3                    Covid                        Casos de COVID-19 no Brasil   \n",
       "4                    Covid  Evolução de mortes causadas pelo COVID-19 em 2020   \n",
       "5        Consumo de Álcool                     Análise Fevereiro – Alcoolismo   \n",
       "\n",
       "                                                Link  \n",
       "0  https://healthlake.com.br/artigos/violencia-do...  \n",
       "1  https://healthlake.com.br/artigos/consumo-de-a...  \n",
       "2  https://healthlake.com.br/artigos/os-danos-sil...  \n",
       "3  https://public.tableau.com/profile/rcsalgueiro...  \n",
       "4  https://public.tableau.com/profile/health.lake...  \n",
       "5  https://public.tableau.com/profile/health.lake...  "
      ]
     },
     "execution_count": 90,
     "metadata": {},
     "output_type": "execute_result"
    }
   ],
   "source": [
    "df_classificador = df[['Classificação','Título','Link']].drop_duplicates().reset_index(drop=True).copy()\n",
    "df_classificador.head(10)"
   ]
  },
  {
   "cell_type": "code",
   "execution_count": 91,
   "metadata": {},
   "outputs": [
    {
     "data": {
      "text/plain": [
       "Consumo de Álcool          20\n",
       "Covid                      20\n",
       "Tratamentos Oncológicos    15\n",
       "Violência Contra Mulher    15\n",
       "Name: Classificação, dtype: int64"
      ]
     },
     "execution_count": 91,
     "metadata": {},
     "output_type": "execute_result"
    }
   ],
   "source": [
    "df['Classificação'].value_counts()"
   ]
  },
  {
   "cell_type": "markdown",
   "metadata": {
    "colab_type": "text",
    "id": "r_ThoAYG7ADS"
   },
   "source": [
    "## Criando uma nova coluna"
   ]
  },
  {
   "cell_type": "code",
   "execution_count": 92,
   "metadata": {
    "colab": {},
    "colab_type": "code",
    "id": "sZHEPby5SULL"
   },
   "outputs": [],
   "source": [
    "df['nv_Texto'] = df['Texto'].copy()"
   ]
  },
  {
   "cell_type": "markdown",
   "metadata": {
    "colab_type": "text",
    "id": "srB6nkws7Dvd"
   },
   "source": [
    "## Pontuação"
   ]
  },
  {
   "cell_type": "code",
   "execution_count": 93,
   "metadata": {
    "colab": {
     "base_uri": "https://localhost:8080/",
     "height": 80
    },
    "colab_type": "code",
    "id": "NRwtCub4Lx9Z",
    "outputId": "cf1a8f2c-d959-467e-ad67-9369a44a8dc6"
   },
   "outputs": [
    {
     "data": {
      "text/html": [
       "<div>\n",
       "<style scoped>\n",
       "    .dataframe tbody tr th:only-of-type {\n",
       "        vertical-align: middle;\n",
       "    }\n",
       "\n",
       "    .dataframe tbody tr th {\n",
       "        vertical-align: top;\n",
       "    }\n",
       "\n",
       "    .dataframe thead th {\n",
       "        text-align: right;\n",
       "    }\n",
       "</style>\n",
       "<table border=\"1\" class=\"dataframe\">\n",
       "  <thead>\n",
       "    <tr style=\"text-align: right;\">\n",
       "      <th></th>\n",
       "      <th>Texto</th>\n",
       "      <th>nv_Texto</th>\n",
       "    </tr>\n",
       "  </thead>\n",
       "  <tbody>\n",
       "    <tr>\n",
       "      <th>0</th>\n",
       "      <td>Lei Maria da Penha, n. 11.340, de 7 de agosto ...</td>\n",
       "      <td>Lei Maria da Penha  n  11 340  de 7 de agosto ...</td>\n",
       "    </tr>\n",
       "    <tr>\n",
       "      <th>1</th>\n",
       "      <td>cinco tipos de violência doméstica e familiar ...</td>\n",
       "      <td>cinco tipos de violência doméstica e familiar ...</td>\n",
       "    </tr>\n",
       "    <tr>\n",
       "      <th>7</th>\n",
       "      <td>a quantidade de estupro, lesão corporal dolosa...</td>\n",
       "      <td>a quantidade de estupro  lesão corporal dolosa...</td>\n",
       "    </tr>\n",
       "    <tr>\n",
       "      <th>32</th>\n",
       "      <td>números de tratamentos, tanto de Quimioterapia...</td>\n",
       "      <td>números de tratamentos  tanto de Quimioterapia...</td>\n",
       "    </tr>\n",
       "    <tr>\n",
       "      <th>38</th>\n",
       "      <td>Dados sobre oncologia antes, durante e depois ...</td>\n",
       "      <td>Dados sobre oncologia antes  durante e depois ...</td>\n",
       "    </tr>\n",
       "    <tr>\n",
       "      <th>40</th>\n",
       "      <td>Qual é a evolução acumulada de casos de covid ...</td>\n",
       "      <td>Qual é a evolução acumulada de casos de covid ...</td>\n",
       "    </tr>\n",
       "    <tr>\n",
       "      <th>57</th>\n",
       "      <td>Evolução diária de covid, média móvel</td>\n",
       "      <td>Evolução diária de covid  média móvel</td>\n",
       "    </tr>\n",
       "    <tr>\n",
       "      <th>58</th>\n",
       "      <td>Acúmulo de casos de covid por país, por dia</td>\n",
       "      <td>Acúmulo de casos de covid por país  por dia</td>\n",
       "    </tr>\n",
       "    <tr>\n",
       "      <th>63</th>\n",
       "      <td>Quantidade de ocorrências por estado relaciona...</td>\n",
       "      <td>Quantidade de ocorrências por estado relaciona...</td>\n",
       "    </tr>\n",
       "  </tbody>\n",
       "</table>\n",
       "</div>"
      ],
      "text/plain": [
       "                                                Texto  \\\n",
       "0   Lei Maria da Penha, n. 11.340, de 7 de agosto ...   \n",
       "1   cinco tipos de violência doméstica e familiar ...   \n",
       "7   a quantidade de estupro, lesão corporal dolosa...   \n",
       "32  números de tratamentos, tanto de Quimioterapia...   \n",
       "38  Dados sobre oncologia antes, durante e depois ...   \n",
       "40  Qual é a evolução acumulada de casos de covid ...   \n",
       "57              Evolução diária de covid, média móvel   \n",
       "58        Acúmulo de casos de covid por país, por dia   \n",
       "63  Quantidade de ocorrências por estado relaciona...   \n",
       "\n",
       "                                             nv_Texto  \n",
       "0   Lei Maria da Penha  n  11 340  de 7 de agosto ...  \n",
       "1   cinco tipos de violência doméstica e familiar ...  \n",
       "7   a quantidade de estupro  lesão corporal dolosa...  \n",
       "32  números de tratamentos  tanto de Quimioterapia...  \n",
       "38  Dados sobre oncologia antes  durante e depois ...  \n",
       "40  Qual é a evolução acumulada de casos de covid ...  \n",
       "57              Evolução diária de covid  média móvel  \n",
       "58        Acúmulo de casos de covid por país  por dia  \n",
       "63  Quantidade de ocorrências por estado relaciona...  "
      ]
     },
     "execution_count": 93,
     "metadata": {},
     "output_type": "execute_result"
    }
   ],
   "source": [
    "df['nv_Texto'] = df['nv_Texto'].str.replace('[,.:;!?]+', ' ', regex=True).copy()\n",
    "df[['Texto','nv_Texto']][df['Texto'].str.contains(',')]"
   ]
  },
  {
   "cell_type": "markdown",
   "metadata": {
    "colab_type": "text",
    "id": "PWGOLESG7HNo"
   },
   "source": [
    "## Caracteres Especiais"
   ]
  },
  {
   "cell_type": "code",
   "execution_count": 94,
   "metadata": {
    "colab": {
     "base_uri": "https://localhost:8080/",
     "height": 266
    },
    "colab_type": "code",
    "id": "ujwadI4cNLgP",
    "outputId": "15431454-65be-4f12-c579-df4a86ceb0cb"
   },
   "outputs": [
    {
     "data": {
      "text/html": [
       "<div>\n",
       "<style scoped>\n",
       "    .dataframe tbody tr th:only-of-type {\n",
       "        vertical-align: middle;\n",
       "    }\n",
       "\n",
       "    .dataframe tbody tr th {\n",
       "        vertical-align: top;\n",
       "    }\n",
       "\n",
       "    .dataframe thead th {\n",
       "        text-align: right;\n",
       "    }\n",
       "</style>\n",
       "<table border=\"1\" class=\"dataframe\">\n",
       "  <thead>\n",
       "    <tr style=\"text-align: right;\">\n",
       "      <th></th>\n",
       "      <th>Texto</th>\n",
       "      <th>nv_Texto</th>\n",
       "    </tr>\n",
       "  </thead>\n",
       "  <tbody>\n",
       "  </tbody>\n",
       "</table>\n",
       "</div>"
      ],
      "text/plain": [
       "Empty DataFrame\n",
       "Columns: [Texto, nv_Texto]\n",
       "Index: []"
      ]
     },
     "execution_count": 94,
     "metadata": {},
     "output_type": "execute_result"
    }
   ],
   "source": [
    "df['nv_Texto'] = df['nv_Texto'].str.replace('[/<>()|\\+\\-\\$%&#@\\'\\\"]+', ' ', regex=True).copy()\n",
    "df[['Texto','nv_Texto']][df['Texto'].str.contains('#')]"
   ]
  },
  {
   "cell_type": "markdown",
   "metadata": {
    "colab_type": "text",
    "id": "J37B8lNa7LtM"
   },
   "source": [
    "## Números"
   ]
  },
  {
   "cell_type": "code",
   "execution_count": 95,
   "metadata": {
    "colab": {
     "base_uri": "https://localhost:8080/",
     "height": 111
    },
    "colab_type": "code",
    "id": "8M_MoBkAZ2ej",
    "outputId": "d633010a-a18d-4df2-ebfe-d82d20a0e592"
   },
   "outputs": [
    {
     "data": {
      "text/html": [
       "<div>\n",
       "<style scoped>\n",
       "    .dataframe tbody tr th:only-of-type {\n",
       "        vertical-align: middle;\n",
       "    }\n",
       "\n",
       "    .dataframe tbody tr th {\n",
       "        vertical-align: top;\n",
       "    }\n",
       "\n",
       "    .dataframe thead th {\n",
       "        text-align: right;\n",
       "    }\n",
       "</style>\n",
       "<table border=\"1\" class=\"dataframe\">\n",
       "  <thead>\n",
       "    <tr style=\"text-align: right;\">\n",
       "      <th></th>\n",
       "      <th>Texto</th>\n",
       "      <th>nv_Texto</th>\n",
       "    </tr>\n",
       "  </thead>\n",
       "  <tbody>\n",
       "    <tr>\n",
       "      <th>0</th>\n",
       "      <td>Lei Maria da Penha, n. 11.340, de 7 de agosto ...</td>\n",
       "      <td>Lei Maria da Penha  n     de  de agosto de</td>\n",
       "    </tr>\n",
       "  </tbody>\n",
       "</table>\n",
       "</div>"
      ],
      "text/plain": [
       "                                               Texto  \\\n",
       "0  Lei Maria da Penha, n. 11.340, de 7 de agosto ...   \n",
       "\n",
       "                                      nv_Texto  \n",
       "0  Lei Maria da Penha  n     de  de agosto de   "
      ]
     },
     "execution_count": 95,
     "metadata": {},
     "output_type": "execute_result"
    }
   ],
   "source": [
    "df['nv_Texto'] = df['nv_Texto'].str.replace('[0-9]+', '', regex=True)\n",
    "df[['Texto','nv_Texto']][df['Texto'].str.contains('7')]"
   ]
  },
  {
   "cell_type": "markdown",
   "metadata": {
    "colab_type": "text",
    "id": "LYaCQCUS7PEn"
   },
   "source": [
    "## Stop Words"
   ]
  },
  {
   "cell_type": "code",
   "execution_count": 96,
   "metadata": {
    "colab": {
     "base_uri": "https://localhost:8080/",
     "height": 171
    },
    "colab_type": "code",
    "id": "yNZP2yWcPyax",
    "outputId": "624da4f5-7554-4adb-d93c-418756fbdb0d"
   },
   "outputs": [
    {
     "data": {
      "text/plain": [
       "\"['de', 'a', 'o', 'que', 'e', 'é', 'do', 'da', 'em', 'um', 'para', 'com', 'não', 'uma', 'os', 'no', 'se', 'na', 'por', 'mais', 'as', 'dos', 'como', 'mas', 'ao', 'ele', 'das', 'à', 'seu', 'sua', 'ou', 'quando', 'muito', 'nos', 'já', 'eu', 'também', 'só', 'pelo', 'pela', 'até', 'isso', 'ela', 'entre', 'depois', 'sem', 'mesmo', 'aos', 'seus', 'quem', 'nas', 'me', 'esse', 'eles', 'você', 'essa', 'num', 'nem', 'suas', 'meu', 'às', 'minha', 'numa', 'pelos', 'elas', 'qual', 'nós', 'lhe', 'deles', 'essas', 'esses', 'pelas', 'este', 'dele', 'tu', 'te', 'vocês', 'vos', 'lhes', 'meus', 'minhas', 'teu', 'tua', 'teus', 'tuas', 'nosso', 'nossa', 'nossos', 'nossas', 'dela', 'delas', 'esta', 'estes', 'estas', 'aquele', 'aquela', 'aqueles', 'aquelas', 'isto', 'aquilo', 'estou', 'está', 'estamos', 'estão', 'estive', 'esteve', 'estivemos', 'estiveram', 'estava', 'estávamos', 'estavam', 'estivera', 'estivéramos', 'esteja', 'estejamos', 'estejam', 'estivesse', 'estivéssemos', 'estivessem', 'estiver', 'estivermos', 'estiverem', 'hei', 'há', 'havemos', 'hão', 'houve', 'houvemos', 'houveram', 'houvera', 'houvéramos', 'haja', 'hajamos', 'hajam', 'houvesse', 'houvéssemos', 'houvessem', 'houver', 'houvermos', 'houverem', 'houverei', 'houverá', 'houveremos', 'houverão', 'houveria', 'houveríamos', 'houveriam', 'sou', 'somos', 'são', 'era', 'éramos', 'eram', 'fui', 'foi', 'fomos', 'foram', 'fora', 'fôramos', 'seja', 'sejamos', 'sejam', 'fosse', 'fôssemos', 'fossem', 'for', 'formos', 'forem', 'serei', 'será', 'seremos', 'serão', 'seria', 'seríamos', 'seriam', 'tenho', 'tem', 'temos', 'tém', 'tinha', 'tínhamos', 'tinham', 'tive', 'teve', 'tivemos', 'tiveram', 'tivera', 'tivéramos', 'tenha', 'tenhamos', 'tenham', 'tivesse', 'tivéssemos', 'tivessem', 'tiver', 'tivermos', 'tiverem', 'terei', 'terá', 'teremos', 'terão', 'teria', 'teríamos', 'teriam']\""
      ]
     },
     "execution_count": 96,
     "metadata": {},
     "output_type": "execute_result"
    }
   ],
   "source": [
    "str(stopwords.words('portuguese'))"
   ]
  },
  {
   "cell_type": "code",
   "execution_count": 97,
   "metadata": {
    "colab": {},
    "colab_type": "code",
    "id": "8VV_8vOoaYID"
   },
   "outputs": [],
   "source": [
    "stop_words = stopwords.words('portuguese')"
   ]
  },
  {
   "cell_type": "markdown",
   "metadata": {
    "colab_type": "text",
    "id": "JO6EYIv57R6u"
   },
   "source": [
    "## Tokenização"
   ]
  },
  {
   "cell_type": "code",
   "execution_count": 98,
   "metadata": {
    "colab": {
     "base_uri": "https://localhost:8080/",
     "height": 34
    },
    "colab_type": "code",
    "id": "32_Bifbt6QeN",
    "outputId": "9541c520-da42-4a7e-bc18-9325aeb80a5c"
   },
   "outputs": [
    {
     "data": {
      "text/plain": [
       "['Texto', 'exemplo', 'tokenização']"
      ]
     },
     "execution_count": 98,
     "metadata": {},
     "output_type": "execute_result"
    }
   ],
   "source": [
    "# Não faz parte do problema, somente para visualização\n",
    "frase = 'Texto exemplo tokenização'\n",
    "nltk.word_tokenize(frase)"
   ]
  },
  {
   "cell_type": "markdown",
   "metadata": {
    "colab_type": "text",
    "id": "2q5MuAkA7U68"
   },
   "source": [
    "## CountVectorizer"
   ]
  },
  {
   "cell_type": "code",
   "execution_count": 99,
   "metadata": {
    "colab": {},
    "colab_type": "code",
    "id": "qM6HMnte_-fo"
   },
   "outputs": [],
   "source": [
    "# Criação da função CountVectorizer\n",
    "cvt = CountVectorizer(strip_accents='ascii', lowercase=True, stop_words=stop_words)"
   ]
  },
  {
   "cell_type": "code",
   "execution_count": 100,
   "metadata": {
    "colab": {
     "base_uri": "https://localhost:8080/",
     "height": 51
    },
    "colab_type": "code",
    "id": "8zDyD2fn_xDu",
    "outputId": "3b3dcbfe-433c-45c2-fc19-fb416455d6bd"
   },
   "outputs": [
    {
     "data": {
      "text/plain": [
       "array(['Lei Maria da Penha  n     de  de agosto de ',\n",
       "       'cinco tipos de violência doméstica e familiar contra a mulher  física  psicológica  moral  sexual e patrimonial'],\n",
       "      dtype=object)"
      ]
     },
     "execution_count": 100,
     "metadata": {},
     "output_type": "execute_result"
    }
   ],
   "source": [
    "# Não faz parte do problema, somente para visualização\n",
    "# Seleção de dois itens da nossa base de dados\n",
    "exemplo_descricao = df['nv_Texto'][:2]\n",
    "exemplo_descricao.values"
   ]
  },
  {
   "cell_type": "code",
   "execution_count": 101,
   "metadata": {
    "colab": {
     "base_uri": "https://localhost:8080/",
     "height": 51
    },
    "colab_type": "code",
    "id": "-HgJkr_T_xWa",
    "outputId": "0a529cce-8635-4b4f-b0c9-564255da5e81"
   },
   "outputs": [
    {
     "name": "stderr",
     "output_type": "stream",
     "text": [
      "c:\\users\\tidias\\appdata\\local\\programs\\python\\python39\\lib\\site-packages\\sklearn\\feature_extraction\\text.py:388: UserWarning: Your stop_words may be inconsistent with your preprocessing. Tokenizing the stop words generated tokens ['ate', 'eramos', 'estao', 'estavamos', 'estiveramos', 'estivessemos', 'foramos', 'fossemos', 'ha', 'hao', 'houveramos', 'houverao', 'houveriamos', 'houvessemos', 'ja', 'nao', 'sao', 'sera', 'serao', 'seriamos', 'so', 'tambem', 'tera', 'terao', 'teriamos', 'tinhamos', 'tiveramos', 'tivessemos', 'voce', 'voces'] not in stop_words.\n",
      "  warnings.warn('Your stop_words may be inconsistent with '\n"
     ]
    },
    {
     "data": {
      "text/plain": [
       "array([[1, 0, 0, 0, 0, 0, 1, 1, 0, 0, 0, 1, 0, 0, 0, 0],\n",
       "       [0, 1, 1, 1, 1, 1, 0, 0, 1, 1, 1, 0, 1, 1, 1, 1]], dtype=int64)"
      ]
     },
     "execution_count": 101,
     "metadata": {},
     "output_type": "execute_result"
    }
   ],
   "source": [
    "# Não faz parte do problema, somente para visualização\n",
    "# Transformação dos dois itens em vetores binários\n",
    "exemplo_descricao_cvt = cvt.fit_transform(exemplo_descricao)\n",
    "exemplo_descricao_cvt.toarray()"
   ]
  },
  {
   "cell_type": "code",
   "execution_count": 102,
   "metadata": {
    "colab": {},
    "colab_type": "code",
    "id": "RJ3ygcpcaqsX"
   },
   "outputs": [],
   "source": [
    "X_cvt = cvt.fit_transform(df['nv_Texto'])"
   ]
  },
  {
   "cell_type": "code",
   "execution_count": 103,
   "metadata": {
    "colab": {},
    "colab_type": "code",
    "id": "kwr4BveN_60f"
   },
   "outputs": [],
   "source": [
    "# Criação da função TfidfTransformer\n",
    "tfi = TfidfTransformer(use_idf=True)"
   ]
  },
  {
   "cell_type": "code",
   "execution_count": 104,
   "metadata": {
    "colab": {
     "base_uri": "https://localhost:8080/",
     "height": 85
    },
    "colab_type": "code",
    "id": "TVdNW3Lj_0Va",
    "outputId": "800e6bf7-9b85-4a8f-d326-f4e571d18183"
   },
   "outputs": [
    {
     "data": {
      "text/plain": [
       "array([[0.5       , 0.        , 0.        , 0.        , 0.        ,\n",
       "        0.        , 0.5       , 0.5       , 0.        , 0.        ,\n",
       "        0.        , 0.5       , 0.        , 0.        , 0.        ,\n",
       "        0.        ],\n",
       "       [0.        , 0.28867513, 0.28867513, 0.28867513, 0.28867513,\n",
       "        0.28867513, 0.        , 0.        , 0.28867513, 0.28867513,\n",
       "        0.28867513, 0.        , 0.28867513, 0.28867513, 0.28867513,\n",
       "        0.28867513]])"
      ]
     },
     "execution_count": 104,
     "metadata": {},
     "output_type": "execute_result"
    }
   ],
   "source": [
    "# Não faz parte do problema, somente para visualização\n",
    "# Transformação dos exemplos com a normalização tf-idf\n",
    "exemplo_descricao_tfi = tfi.fit_transform(exemplo_descricao_cvt)\n",
    "exemplo_descricao_tfi.toarray()"
   ]
  },
  {
   "cell_type": "code",
   "execution_count": 105,
   "metadata": {
    "colab": {},
    "colab_type": "code",
    "id": "1yAxm8o5bZJ_"
   },
   "outputs": [],
   "source": [
    "X_tfi = tfi.fit_transform(X_cvt)"
   ]
  },
  {
   "cell_type": "code",
   "execution_count": 106,
   "metadata": {
    "colab": {},
    "colab_type": "code",
    "id": "8ILuFPDmbmAh"
   },
   "outputs": [],
   "source": [
    "# A entrada será a transformação de vetores com a normalização tf-idf\n",
    "entrada = X_tfi\n",
    "# A saida será os departamentos\n",
    "saida = df['Classificação']\n",
    "# Separando 20% dos dados para teste\n",
    "X_train, X_test, y_train, y_test = train_test_split(entrada, saida, test_size=0.3)"
   ]
  },
  {
   "cell_type": "markdown",
   "metadata": {
    "colab_type": "text",
    "id": "-GuR9sOdt-rR"
   },
   "source": [
    "## Modelo LinearSVC"
   ]
  },
  {
   "cell_type": "code",
   "execution_count": 107,
   "metadata": {
    "colab": {
     "base_uri": "https://localhost:8080/",
     "height": 85
    },
    "colab_type": "code",
    "id": "3sKGFVOeb7A9",
    "outputId": "181cf909-9e02-44ff-a905-813948e8c6d0"
   },
   "outputs": [
    {
     "data": {
      "text/plain": [
       "LinearSVC()"
      ]
     },
     "execution_count": 107,
     "metadata": {},
     "output_type": "execute_result"
    }
   ],
   "source": [
    "# Criando modelo\n",
    "clf = LinearSVC()\n",
    "# Treinamento do modelo\n",
    "clf.fit(X_train, y_train)"
   ]
  },
  {
   "cell_type": "markdown",
   "metadata": {
    "colab_type": "text",
    "id": "FFwyE9pAuDn0"
   },
   "source": [
    "## Predição e avaliação do modelo"
   ]
  },
  {
   "cell_type": "code",
   "execution_count": 108,
   "metadata": {
    "colab": {
     "base_uri": "https://localhost:8080/",
     "height": 34
    },
    "colab_type": "code",
    "id": "KJRAQLEPcKAD",
    "outputId": "1f50db6e-e1b1-4020-f0cb-d21ff248d289"
   },
   "outputs": [
    {
     "name": "stdout",
     "output_type": "stream",
     "text": [
      "Acurácia: 0.90\n"
     ]
    }
   ],
   "source": [
    "# Realizando a predição\n",
    "resultado = clf.predict(X_test)\n",
    "# Avaliando o modelo\n",
    "print('Acurácia: {:.2f}'.format(metrics.accuracy_score(y_test, resultado)))"
   ]
  },
  {
   "cell_type": "code",
   "execution_count": 109,
   "metadata": {
    "colab": {
     "base_uri": "https://localhost:8080/",
     "height": 1000
    },
    "colab_type": "code",
    "id": "SV4pjQ65bXtJ",
    "outputId": "02491b3a-b6d1-4b11-c46a-093d4378d91a"
   },
   "outputs": [
    {
     "name": "stdout",
     "output_type": "stream",
     "text": [
      "                         precision    recall  f1-score   support\n",
      "\n",
      "      Consumo de Álcool       1.00      0.75      0.86         8\n",
      "                  Covid       1.00      1.00      1.00         9\n",
      "Tratamentos Oncológicos       0.50      1.00      0.67         2\n",
      "Violência Contra Mulher       1.00      1.00      1.00         2\n",
      "\n",
      "               accuracy                           0.90        21\n",
      "              macro avg       0.88      0.94      0.88        21\n",
      "           weighted avg       0.95      0.90      0.91        21\n",
      "\n"
     ]
    }
   ],
   "source": [
    "# Avaliação completa\n",
    "print(metrics.classification_report(y_test, resultado))"
   ]
  },
  {
   "cell_type": "markdown",
   "metadata": {
    "colab_type": "text",
    "id": "Xya6qHGUuIGL"
   },
   "source": [
    "## Utilização do modelo"
   ]
  },
  {
   "cell_type": "markdown",
   "metadata": {
    "colab_type": "text",
    "id": "glPX-gZyuLwr"
   },
   "source": [
    "A função para utilização do modelo, recebe uma descrição e retorna o departamento para essa descrição.\n"
   ]
  },
  {
   "cell_type": "code",
   "execution_count": 110,
   "metadata": {
    "colab": {},
    "colab_type": "code",
    "id": "sbEB0-E5dwlc"
   },
   "outputs": [],
   "source": [
    "def novo_texto(nv_Texto):\n",
    "  novo_cvt = cvt.transform(pd.Series(nv_Texto))\n",
    "  novo_tfi = tfi.transform(novo_cvt)\n",
    "  classificacao = clf.predict(novo_tfi)[0]\n",
    "  return classificacao"
   ]
  },
  {
   "cell_type": "markdown",
   "metadata": {
    "colab_type": "text",
    "id": "e3QxsHVfuQip"
   },
   "source": [
    "No final o nosso resultado mostrando (Produto: descrição informada Departamento: departamento previsto). Portanto, podemos ver a assertividade do nosso modelo na prática."
   ]
  },
  {
   "cell_type": "code",
   "execution_count": 111,
   "metadata": {
    "colab": {
     "base_uri": "https://localhost:8080/",
     "height": 68
    },
    "colab_type": "code",
    "id": "ZYNPwgKfct0A",
    "outputId": "116a37ab-7d83-4c31-9b24-b4e0e438fc5d"
   },
   "outputs": [
    {
     "name": "stdout",
     "output_type": "stream",
     "text": [
      "Texto: Dados sobre Cancer Classificação: Tratamentos Oncológicos\n",
      "Texto: Dados sobre consumo de bebidas Classificação: Consumo de Álcool\n"
     ]
    }
   ],
   "source": [
    "# Lista de exemplos de novos produtos\n",
    "Textos = ['Dados sobre Cancer','Dados sobre consumo de bebidas']\n",
    "# Loop for para fazer a predição do departamento de novos produtos\n",
    "for Texto in Textos:\n",
    "  print('Texto:', Texto, 'Classificação:', novo_texto(Texto))"
   ]
  },
  {
   "cell_type": "markdown",
   "metadata": {},
   "source": [
    "## Criando Pipeline do modelo"
   ]
  },
  {
   "cell_type": "code",
   "execution_count": 112,
   "metadata": {},
   "outputs": [],
   "source": [
    "entrada = df['nv_Texto']\n",
    "# A saida será os departamentos\n",
    "saida = df['Classificação']\n",
    "\n",
    "X_train, X_test, y_train, y_test = train_test_split(entrada, saida, test_size=0.3)\n",
    "\n",
    "pipe = Pipeline([\n",
    "                ('cvt', CountVectorizer(strip_accents='ascii', lowercase=True, stop_words=stop_words)), \n",
    "                ('tfi', TfidfTransformer(use_idf=True)), \n",
    "                ('clf', LinearSVC())\n",
    "                ])"
   ]
  },
  {
   "cell_type": "code",
   "execution_count": 113,
   "metadata": {},
   "outputs": [
    {
     "name": "stderr",
     "output_type": "stream",
     "text": [
      "c:\\users\\tidias\\appdata\\local\\programs\\python\\python39\\lib\\site-packages\\sklearn\\feature_extraction\\text.py:388: UserWarning: Your stop_words may be inconsistent with your preprocessing. Tokenizing the stop words generated tokens ['ate', 'eramos', 'estao', 'estavamos', 'estiveramos', 'estivessemos', 'foramos', 'fossemos', 'ha', 'hao', 'houveramos', 'houverao', 'houveriamos', 'houvessemos', 'ja', 'nao', 'sao', 'sera', 'serao', 'seriamos', 'so', 'tambem', 'tera', 'terao', 'teriamos', 'tinhamos', 'tiveramos', 'tivessemos', 'voce', 'voces'] not in stop_words.\n",
      "  warnings.warn('Your stop_words may be inconsistent with '\n"
     ]
    },
    {
     "data": {
      "text/plain": [
       "Pipeline(steps=[('cvt',\n",
       "                 CountVectorizer(stop_words=['de', 'a', 'o', 'que', 'e', 'é',\n",
       "                                             'do', 'da', 'em', 'um', 'para',\n",
       "                                             'com', 'não', 'uma', 'os', 'no',\n",
       "                                             'se', 'na', 'por', 'mais', 'as',\n",
       "                                             'dos', 'como', 'mas', 'ao', 'ele',\n",
       "                                             'das', 'à', 'seu', 'sua', ...],\n",
       "                                 strip_accents='ascii')),\n",
       "                ('tfi', TfidfTransformer()), ('clf', LinearSVC())])"
      ]
     },
     "execution_count": 113,
     "metadata": {},
     "output_type": "execute_result"
    }
   ],
   "source": [
    "pipe.fit(X_train, y_train)"
   ]
  },
  {
   "cell_type": "code",
   "execution_count": 114,
   "metadata": {},
   "outputs": [
    {
     "data": {
      "text/plain": [
       "1.0"
      ]
     },
     "execution_count": 114,
     "metadata": {},
     "output_type": "execute_result"
    }
   ],
   "source": [
    "pipe.score(X_test, y_test)"
   ]
  },
  {
   "cell_type": "code",
   "execution_count": 115,
   "metadata": {},
   "outputs": [
    {
     "name": "stdout",
     "output_type": "stream",
     "text": [
      "Texto: Panorâma da violência contra a mulher Classificação: Violência Contra Mulher\n",
      "Texto: Dados sobre Cancer Classificação: Tratamentos Oncológicos\n",
      "Texto: Dados sobre consumo de bebidas Classificação: Consumo de Álcool\n"
     ]
    }
   ],
   "source": [
    "# Lista de exemplos de novos produtos\n",
    "Textos = ['Panorâma da violência contra a mulher','Dados sobre Cancer','Dados sobre consumo de bebidas']\n",
    "# Loop for para fazer a predição do departamento de novos produtos\n",
    "for Texto in Textos:\n",
    "  print('Texto:', Texto, 'Classificação:', pipe.predict([Texto])[0])"
   ]
  },
  {
   "cell_type": "markdown",
   "metadata": {},
   "source": [
    "## Exportando Pipeline do modelo"
   ]
  },
  {
   "cell_type": "code",
   "execution_count": 116,
   "metadata": {},
   "outputs": [
    {
     "data": {
      "text/plain": [
       "['classificador.joblib']"
      ]
     },
     "execution_count": 116,
     "metadata": {},
     "output_type": "execute_result"
    }
   ],
   "source": [
    "dump(pipe, 'classificador.joblib') "
   ]
  },
  {
   "cell_type": "markdown",
   "metadata": {},
   "source": [
    "## Load Pipeline do modelo"
   ]
  },
  {
   "cell_type": "code",
   "execution_count": 117,
   "metadata": {},
   "outputs": [],
   "source": [
    "classificador = load('classificador.joblib') "
   ]
  },
  {
   "cell_type": "code",
   "execution_count": 118,
   "metadata": {},
   "outputs": [
    {
     "name": "stdout",
     "output_type": "stream",
     "text": [
      "Texto: Panorâma da violência contra a mulher Classificação: Violência Contra Mulher\n",
      "Texto: Dados sobre doenças oncológicas Classificação: Tratamentos Oncológicos\n",
      "Texto: Dados sobre consumo de bebidas Classificação: Consumo de Álcool\n",
      "Texto: Covid no Brasil Classificação: Covid\n"
     ]
    },
    {
     "name": "stderr",
     "output_type": "stream",
     "text": [
      "c:\\users\\tidias\\appdata\\local\\programs\\python\\python39\\lib\\site-packages\\sklearn\\feature_extraction\\text.py:388: UserWarning: Your stop_words may be inconsistent with your preprocessing. Tokenizing the stop words generated tokens ['ate', 'eramos', 'estao', 'estavamos', 'estiveramos', 'estivessemos', 'foramos', 'fossemos', 'ha', 'hao', 'houveramos', 'houverao', 'houveriamos', 'houvessemos', 'ja', 'nao', 'sao', 'sera', 'serao', 'seriamos', 'so', 'tambem', 'tera', 'terao', 'teriamos', 'tinhamos', 'tiveramos', 'tivessemos', 'voce', 'voces'] not in stop_words.\n",
      "  warnings.warn('Your stop_words may be inconsistent with '\n"
     ]
    }
   ],
   "source": [
    "# Lista de exemplos de novos produtos\n",
    "Textos = ['Panorâma da violência contra a mulher',\n",
    "          'Dados sobre doenças oncológicas',\n",
    "          'Dados sobre consumo de bebidas',\n",
    "          'Covid no Brasil']\n",
    "# Loop for para fazer a predição do departamento de novos produtos\n",
    "for Texto in Textos:\n",
    "  print('Texto:', Texto, 'Classificação:', classificador.predict([Texto])[0])"
   ]
  },
  {
   "cell_type": "markdown",
   "metadata": {},
   "source": [
    "## Action Rasa"
   ]
  },
  {
   "cell_type": "code",
   "execution_count": 119,
   "metadata": {},
   "outputs": [],
   "source": [
    "Texto = [{'Texto': 'Panorâma da violência# contra a mulher 2020!'}]"
   ]
  },
  {
   "cell_type": "code",
   "execution_count": 120,
   "metadata": {},
   "outputs": [
    {
     "data": {
      "text/html": [
       "<div>\n",
       "<style scoped>\n",
       "    .dataframe tbody tr th:only-of-type {\n",
       "        vertical-align: middle;\n",
       "    }\n",
       "\n",
       "    .dataframe tbody tr th {\n",
       "        vertical-align: top;\n",
       "    }\n",
       "\n",
       "    .dataframe thead th {\n",
       "        text-align: right;\n",
       "    }\n",
       "</style>\n",
       "<table border=\"1\" class=\"dataframe\">\n",
       "  <thead>\n",
       "    <tr style=\"text-align: right;\">\n",
       "      <th></th>\n",
       "      <th>Texto</th>\n",
       "    </tr>\n",
       "  </thead>\n",
       "  <tbody>\n",
       "    <tr>\n",
       "      <th>0</th>\n",
       "      <td>Panorâma da violência# contra a mulher 2020!</td>\n",
       "    </tr>\n",
       "  </tbody>\n",
       "</table>\n",
       "</div>"
      ],
      "text/plain": [
       "                                          Texto\n",
       "0  Panorâma da violência# contra a mulher 2020!"
      ]
     },
     "execution_count": 120,
     "metadata": {},
     "output_type": "execute_result"
    }
   ],
   "source": [
    "df_texto = pd.DataFrame(Texto)\n",
    "df_texto"
   ]
  },
  {
   "cell_type": "code",
   "execution_count": 121,
   "metadata": {},
   "outputs": [],
   "source": [
    "def limpa_texto(df_texto):\n",
    "    df_texto['nv_Texto'] = df_texto['Texto'].copy()\n",
    "    df_texto['nv_Texto'] = df_texto['nv_Texto'].str.replace('[,.:;!?]+', ' ', regex=True).copy()\n",
    "    df_texto['nv_Texto'] = df_texto['nv_Texto'].str.replace('[/<>()|\\+\\-\\$%&#@\\'\\\"]+', ' ', regex=True).copy()\n",
    "    df_texto['nv_Texto'] = df_texto['nv_Texto'].str.replace('[0-9]+', '', regex=True)\n",
    "    return df_texto"
   ]
  },
  {
   "cell_type": "code",
   "execution_count": 122,
   "metadata": {},
   "outputs": [
    {
     "data": {
      "text/html": [
       "<div>\n",
       "<style scoped>\n",
       "    .dataframe tbody tr th:only-of-type {\n",
       "        vertical-align: middle;\n",
       "    }\n",
       "\n",
       "    .dataframe tbody tr th {\n",
       "        vertical-align: top;\n",
       "    }\n",
       "\n",
       "    .dataframe thead th {\n",
       "        text-align: right;\n",
       "    }\n",
       "</style>\n",
       "<table border=\"1\" class=\"dataframe\">\n",
       "  <thead>\n",
       "    <tr style=\"text-align: right;\">\n",
       "      <th></th>\n",
       "      <th>Texto</th>\n",
       "      <th>nv_Texto</th>\n",
       "    </tr>\n",
       "  </thead>\n",
       "  <tbody>\n",
       "    <tr>\n",
       "      <th>0</th>\n",
       "      <td>Panorâma da violência# contra a mulher 2020!</td>\n",
       "      <td>Panorâma da violência  contra a mulher</td>\n",
       "    </tr>\n",
       "  </tbody>\n",
       "</table>\n",
       "</div>"
      ],
      "text/plain": [
       "                                          Texto  \\\n",
       "0  Panorâma da violência# contra a mulher 2020!   \n",
       "\n",
       "                                   nv_Texto  \n",
       "0  Panorâma da violência  contra a mulher    "
      ]
     },
     "execution_count": 122,
     "metadata": {},
     "output_type": "execute_result"
    }
   ],
   "source": [
    "df_texto = limpa_texto(df_texto)\n",
    "df_texto"
   ]
  },
  {
   "cell_type": "code",
   "execution_count": 123,
   "metadata": {},
   "outputs": [
    {
     "data": {
      "text/plain": [
       "0    Panorâma da violência  contra a mulher  \n",
       "Name: nv_Texto, dtype: object"
      ]
     },
     "execution_count": 123,
     "metadata": {},
     "output_type": "execute_result"
    }
   ],
   "source": [
    "df_texto['nv_Texto']"
   ]
  },
  {
   "cell_type": "code",
   "execution_count": 124,
   "metadata": {},
   "outputs": [
    {
     "data": {
      "text/plain": [
       "'Violência Contra Mulher'"
      ]
     },
     "execution_count": 124,
     "metadata": {},
     "output_type": "execute_result"
    }
   ],
   "source": [
    "classifica = classificador.predict(df_texto['nv_Texto'])[0]\n",
    "classifica"
   ]
  },
  {
   "cell_type": "code",
   "execution_count": 125,
   "metadata": {},
   "outputs": [
    {
     "data": {
      "text/plain": [
       "'Violência Doméstica em Tempos de Pandemia Violência Contra Mulheres'"
      ]
     },
     "execution_count": 125,
     "metadata": {},
     "output_type": "execute_result"
    }
   ],
   "source": [
    "titulo = df_classificador.query('Classificação == @classifica')['Título'].values[0]\n",
    "titulo"
   ]
  },
  {
   "cell_type": "code",
   "execution_count": 126,
   "metadata": {},
   "outputs": [
    {
     "data": {
      "text/plain": [
       "'https://healthlake.com.br/artigos/violencia-domestica-em-tempos-de-pandemia-violencia-contra-mulheres'"
      ]
     },
     "execution_count": 126,
     "metadata": {},
     "output_type": "execute_result"
    }
   ],
   "source": [
    "link = df_classificador.query('Classificação == @classifica')['Link'].values[0]\n",
    "link"
   ]
  },
  {
   "cell_type": "code",
   "execution_count": 127,
   "metadata": {},
   "outputs": [
    {
     "data": {
      "text/plain": [
       "'Título: Violência Doméstica em Tempos de Pandemia Violência Contra Mulheres, no link: https://healthlake.com.br/artigos/violencia-domestica-em-tempos-de-pandemia-violencia-contra-mulheres'"
      ]
     },
     "execution_count": 127,
     "metadata": {},
     "output_type": "execute_result"
    }
   ],
   "source": [
    "str_result = 'Título: ' + titulo + ', no link: ' + link\n",
    "str_result"
   ]
  },
  {
   "cell_type": "code",
   "execution_count": null,
   "metadata": {},
   "outputs": [],
   "source": []
  }
 ],
 "metadata": {
  "colab": {
   "collapsed_sections": [],
   "name": "NLP com scikit-learn.ipynb",
   "provenance": [],
   "toc_visible": true
  },
  "kernelspec": {
   "display_name": "Python 3",
   "language": "python",
   "name": "python3"
  },
  "language_info": {
   "codemirror_mode": {
    "name": "ipython",
    "version": 3
   },
   "file_extension": ".py",
   "mimetype": "text/x-python",
   "name": "python",
   "nbconvert_exporter": "python",
   "pygments_lexer": "ipython3",
   "version": "3.9.1"
  }
 },
 "nbformat": 4,
 "nbformat_minor": 1
}
