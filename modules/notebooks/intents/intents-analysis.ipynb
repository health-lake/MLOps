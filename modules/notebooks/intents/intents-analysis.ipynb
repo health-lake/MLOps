{
 "cells": [
  {
   "cell_type": "markdown",
   "metadata": {
    "colab_type": "text",
    "id": "kO9wt2g3okLS"
   },
   "source": [
    "# Análise das Intents\n",
    "\n",
    "Este jupyter-notebook vai auxiliar na análise de detecção de intenções de seu chatbot."
   ]
  },
  {
   "cell_type": "markdown",
   "metadata": {},
   "source": [
    "### Configurando e Imports"
   ]
  },
  {
   "cell_type": "code",
   "execution_count": 1,
   "metadata": {
    "scrolled": false
   },
   "outputs": [
    {
     "name": "stdout",
     "output_type": "stream",
     "text": [
      "Rasa: 1.4.1\n"
     ]
    }
   ],
   "source": [
    "from IPython.display import IFrame\n",
    "\n",
    "import rasa\n",
    "print(\"Rasa: {}\".format(rasa.__version__))"
   ]
  },
  {
   "cell_type": "markdown",
   "metadata": {
    "colab_type": "text",
    "id": "1xeXgpdwzOAl"
   },
   "source": [
    "### Treinando o modelo do Rasa NLU\n",
    "\n",
    "* Para avaliar o bot o primeiro passo é treiner o seu chatbot. Mas não é necessário treinar a parte de conversão completa (rasa_core) apenas a parte de interpretação de mensagens (rasa_nlu).\n",
    "\n",
    "* O comando `train-nlu` do Makefile executa o treinamento apenas do `rasa_nlu`"
   ]
  },
  {
   "cell_type": "code",
   "execution_count": 2,
   "metadata": {
    "scrolled": false
   },
   "outputs": [
    {
     "name": "stdout",
     "output_type": "stream",
     "text": [
      "\u001b[94mTraining NLU model...\u001b[0m\n",
      "2019-10-23 01:04:34 \u001b[1;30mINFO    \u001b[0m \u001b[34mabsl\u001b[0m  - Entry Point [tensor2tensor.envs.tic_tac_toe_env:TicTacToeEnv] registered with id [T2TEnv-TicTacToeEnv-v0]\n",
      "2019-10-23 01:04:34 \u001b[1;30mINFO    \u001b[0m \u001b[34mrasa.nlu.training_data.training_data\u001b[0m  - Training data stats: \n",
      "\t- intent examples: 588 (37 distinct intents)\n",
      "\t- Found intents: 'license', 'cumprimentar', 'time', 'historia', 'tudo_bem', 'negar', 'afirmacao_botao', 'linguagens', 'despedir', 'relationship', 'filme', 'genero', 'triste', 'negacao_botao', 'elogios', 'bff', 'filhos', 'onde_voce_mora', 'religiao', 'comida', 'diga_mais', 'cor', 'signo', 'piada', 'botao', 'action_test', 'o_que_sei_falar', 'playlist', 'hobby', 'out_of_scope', 'me', 'star_wars', 'esporte', 'de_onde_voce_eh', 'risada', 'negar_despedir', 'como_estou'\n",
      "\t- Number of response examples: 0 (0 distinct response)\n",
      "\t- entity examples: 173 (22 distinct entities)\n",
      "\t- found entities: 'starwars', 'license', 'historia', 'where', 'linguagens', 'filme', 'relationship', 'genero', 'triste', 'bff', 'filhos', 'religiao', 'comida', 'cor', 'signo', 'piada', 'how', 'live', 'playlist', 'hobby', 'me', 'esporte'\n",
      "\n",
      "/usr/local/lib/python3.6/site-packages/rasa/nlu/training_data/training_data.py:336: UserWarning: Intent 'afirmacao_botao' has only 1 training examples! Minimum is 2, training may fail.\n",
      "  intent, count, self.MIN_EXAMPLES_PER_INTENT\n",
      "/usr/local/lib/python3.6/site-packages/rasa/nlu/training_data/training_data.py:336: UserWarning: Intent 'negacao_botao' has only 1 training examples! Minimum is 2, training may fail.\n",
      "  intent, count, self.MIN_EXAMPLES_PER_INTENT\n",
      "2019-10-23 01:04:34 \u001b[1;30mINFO    \u001b[0m \u001b[34mrasa.nlu.model\u001b[0m  - Starting to train component WhitespaceTokenizer\n",
      "2019-10-23 01:04:34 \u001b[1;30mINFO    \u001b[0m \u001b[34mrasa.nlu.model\u001b[0m  - Finished training component.\n",
      "2019-10-23 01:04:34 \u001b[1;30mINFO    \u001b[0m \u001b[34mrasa.nlu.model\u001b[0m  - Starting to train component CRFEntityExtractor\n",
      "2019-10-23 01:04:35 \u001b[1;30mINFO    \u001b[0m \u001b[34mrasa.nlu.model\u001b[0m  - Finished training component.\n",
      "2019-10-23 01:04:35 \u001b[1;30mINFO    \u001b[0m \u001b[34mrasa.nlu.model\u001b[0m  - Starting to train component EntitySynonymMapper\n",
      "2019-10-23 01:04:35 \u001b[1;30mINFO    \u001b[0m \u001b[34mrasa.nlu.model\u001b[0m  - Finished training component.\n",
      "2019-10-23 01:04:35 \u001b[1;30mINFO    \u001b[0m \u001b[34mrasa.nlu.model\u001b[0m  - Starting to train component CountVectorsFeaturizer\n",
      "2019-10-23 01:04:35 \u001b[1;30mINFO    \u001b[0m \u001b[34mrasa.nlu.model\u001b[0m  - Finished training component.\n",
      "2019-10-23 01:04:35 \u001b[1;30mINFO    \u001b[0m \u001b[34mrasa.nlu.model\u001b[0m  - Starting to train component EmbeddingIntentClassifier\n",
      "Epochs: 100%|██████████| 300/300 [00:15<00:00, 19.24it/s, loss=1.005, acc=1.000]\n",
      "2019-10-23 01:04:53 \u001b[1;30mINFO    \u001b[0m \u001b[34mrasa.utils.train_utils\u001b[0m  - Finished training embedding policy, train loss=1.005, train accuracy=1.000\n",
      "2019-10-23 01:04:53 \u001b[1;30mINFO    \u001b[0m \u001b[34mrasa.nlu.model\u001b[0m  - Finished training component.\n",
      "2019-10-23 01:04:54 \u001b[1;30mINFO    \u001b[0m \u001b[34mrasa.nlu.model\u001b[0m  - Successfully saved model into '/tmp/tmpj0lhn0y2/nlu'\n",
      "\u001b[94mNLU model training completed.\u001b[0m\n",
      "\u001b[92mYour Rasa model is trained and saved at '/work/notebooks/intents/models/nlu-20191023-010454.tar.gz'.\u001b[0m\n"
     ]
    }
   ],
   "source": [
    "!rasa train nlu --config $CONFIG_PATH --nlu $DATA_PATH"
   ]
  },
  {
   "cell_type": "markdown",
   "metadata": {},
   "source": [
    "O comando acima gerou um modelo apenas de **NLU**, este modelo pode ser achado na seguinte pasta:"
   ]
  },
  {
   "cell_type": "markdown",
   "metadata": {},
   "source": [
    "`modules/notebooks/intents/models/`"
   ]
  },
  {
   "cell_type": "code",
   "execution_count": 3,
   "metadata": {},
   "outputs": [
    {
     "name": "stdout",
     "output_type": "stream",
     "text": [
      "nlu-20191021-134116.tar.gz  nlu-20191023-000948.tar.gz\r\n",
      "nlu-20191021-134626.tar.gz  nlu-20191023-002148.tar.gz\r\n",
      "nlu-20191023-000924.tar.gz  nlu-20191023-010454.tar.gz\r\n"
     ]
    }
   ],
   "source": [
    "!ls models/"
   ]
  },
  {
   "cell_type": "markdown",
   "metadata": {},
   "source": [
    "### Métodos de avaliação do chatbot\n",
    "\n",
    "* O Rasa fornece vários métodos de avaliação e validação das `intents`, para verificar como utiliza-los, cada método fornece um log, imagem, gráfico ou arquivo com dados relevantes para interpretação do chatbot."
   ]
  },
  {
   "cell_type": "markdown",
   "metadata": {},
   "source": [
    "* O comando `rasa test nlu` é a base para a avaliação do chatbot.\n",
    "\n",
    "* Na célula abaixo a flag `-h` foi utilizada para mostrar as funções e a forma de uso de cada uma delas, mude seus valores e flags para ter as informações desejadas na sua análise.\n",
    "\n",
    "* Atualmente o Rasa possui 2 modos, `evaluation` e `crossvalidation` que tem seções decicadas a eles neste jupyter notebook."
   ]
  },
  {
   "cell_type": "code",
   "execution_count": 4,
   "metadata": {
    "scrolled": true
   },
   "outputs": [
    {
     "name": "stdout",
     "output_type": "stream",
     "text": [
      "usage: rasa test nlu [-h] [-v] [-vv] [--quiet] [-m MODEL] [-u NLU] [--out OUT]\r\n",
      "                     [--successes] [--no-errors] [--histogram HISTOGRAM]\r\n",
      "                     [--confmat CONFMAT] [-c CONFIG [CONFIG ...]]\r\n",
      "                     [--cross-validation] [-f FOLDS] [-r RUNS]\r\n",
      "                     [-p PERCENTAGES [PERCENTAGES ...]]\r\n",
      "\r\n",
      "optional arguments:\r\n",
      "  -h, --help            show this help message and exit\r\n",
      "  -m MODEL, --model MODEL\r\n",
      "                        Path to a trained Rasa model. If a directory is\r\n",
      "                        specified, it will use the latest model in this\r\n",
      "                        directory. (default: models)\r\n",
      "  -u NLU, --nlu NLU     File or folder containing your NLU data. (default:\r\n",
      "                        data)\r\n",
      "  --out OUT             Output path for any files created during the\r\n",
      "                        evaluation. (default: results)\r\n",
      "  --successes           If set successful predictions (intent and entities)\r\n",
      "                        will be written to a file. (default: False)\r\n",
      "  --no-errors           If set incorrect predictions (intent and entities)\r\n",
      "                        will NOT be written to a file. (default: False)\r\n",
      "  --histogram HISTOGRAM\r\n",
      "                        Output path for the confidence histogram. (default:\r\n",
      "                        hist.png)\r\n",
      "  --confmat CONFMAT     Output path for the confusion matrix plot. (default:\r\n",
      "                        confmat.png)\r\n",
      "  -c CONFIG [CONFIG ...], --config CONFIG [CONFIG ...]\r\n",
      "                        Model configuration file. If a single file is passed\r\n",
      "                        and cross validation mode is chosen, cross-validation\r\n",
      "                        is performed, if multiple configs or a folder of\r\n",
      "                        configs are passed, models will be trained and\r\n",
      "                        compared directly. (default: None)\r\n",
      "\r\n",
      "Python Logging Options:\r\n",
      "  -v, --verbose         Be verbose. Sets logging level to INFO. (default:\r\n",
      "                        None)\r\n",
      "  -vv, --debug          Print lots of debugging statements. Sets logging level\r\n",
      "                        to DEBUG. (default: None)\r\n",
      "  --quiet               Be quiet! Sets logging level to WARNING. (default:\r\n",
      "                        None)\r\n",
      "\r\n",
      "Cross Validation:\r\n",
      "  --cross-validation    Switch on cross validation mode. Any provided model\r\n",
      "                        will be ignored. (default: False)\r\n",
      "  -f FOLDS, --folds FOLDS\r\n",
      "                        Number of cross validation folds (cross validation\r\n",
      "                        only). (default: 10)\r\n",
      "\r\n",
      "Comparison Mode:\r\n",
      "  -r RUNS, --runs RUNS  Number of comparison runs to make. (default: 3)\r\n",
      "  -p PERCENTAGES [PERCENTAGES ...], --percentages PERCENTAGES [PERCENTAGES ...]\r\n",
      "                        Percentages of training data to exclude during\r\n",
      "                        comparison. (default: [0, 25, 50, 75])\r\n"
     ]
    }
   ],
   "source": [
    "!rasa test nlu -h"
   ]
  },
  {
   "cell_type": "markdown",
   "metadata": {},
   "source": [
    "### Evaluation"
   ]
  },
  {
   "cell_type": "markdown",
   "metadata": {},
   "source": [
    "* O comando abaixo gera informações relevates para a validação das `intents` são elas:\n",
    "    * Matriz de confusão\n",
    "    * Histograma\n",
    "    * Erros de intents\n",
    "\n",
    "Essas informações e os demais arquivos podem ser encontrados na pasta `results`."
   ]
  },
  {
   "cell_type": "code",
   "execution_count": 5,
   "metadata": {},
   "outputs": [
    {
     "name": "stdout",
     "output_type": "stream",
     "text": [
      "CRFEntityExtractor_errors.json\tconfmat.png  intent_errors.json\r\n",
      "CRFEntityExtractor_report.json\thist.png     intent_report.json\r\n"
     ]
    }
   ],
   "source": [
    "!ls results"
   ]
  },
  {
   "cell_type": "code",
   "execution_count": 6,
   "metadata": {
    "scrolled": true
   },
   "outputs": [
    {
     "name": "stdout",
     "output_type": "stream",
     "text": [
      "2019-10-23 01:05:05 \u001b[1;30mINFO    \u001b[0m \u001b[34mabsl\u001b[0m  - Entry Point [tensor2tensor.envs.tic_tac_toe_env:TicTacToeEnv] registered with id [T2TEnv-TicTacToeEnv-v0]\n",
      "2019-10-23 01:05:06 \u001b[1;30mINFO    \u001b[0m \u001b[34mrasa.nlu.test\u001b[0m  - Running model for predictions:\n",
      "100%|████████████████████████████████████████| 588/588 [00:00<00:00, 730.43it/s]\n",
      "2019-10-23 01:05:07 \u001b[1;30mINFO    \u001b[0m \u001b[34mrasa.nlu.test\u001b[0m  - Intent evaluation results:\n",
      "2019-10-23 01:05:07 \u001b[1;30mINFO    \u001b[0m \u001b[34mrasa.nlu.test\u001b[0m  - Intent Evaluation: Only considering those 588 examples that have a defined intent out of 588 examples\n",
      "2019-10-23 01:05:07 \u001b[1;30mINFO    \u001b[0m \u001b[34mrasa.nlu.test\u001b[0m  - Classification report saved to results/intent_report.json.\n",
      "2019-10-23 01:05:07 \u001b[1;30mINFO    \u001b[0m \u001b[34mrasa.nlu.test\u001b[0m  - Incorrect intent predictions saved to results/intent_errors.json.\n",
      "2019-10-23 01:05:07 \u001b[1;30mINFO    \u001b[0m \u001b[34mrasa.nlu.test\u001b[0m  - Confusion matrix, without normalization: \n",
      "[[ 0  0  0 ...  0  0  0]\n",
      " [ 0  6  0 ...  0  0  0]\n",
      " [ 0  0  1 ...  0  0  0]\n",
      " ...\n",
      " [ 0  0  0 ... 14  0  0]\n",
      " [ 0  0  0 ...  0 18  0]\n",
      " [ 0  0  0 ...  0  0 23]]\n",
      "2019-10-23 01:05:13 \u001b[1;30mINFO    \u001b[0m \u001b[34mrasa.nlu.test\u001b[0m  - Entity evaluation results:\n",
      "2019-10-23 01:05:13 \u001b[1;30mINFO    \u001b[0m \u001b[34mrasa.nlu.test\u001b[0m  - Evaluation for entity extractor: CRFEntityExtractor \n",
      "2019-10-23 01:05:13 \u001b[1;30mINFO    \u001b[0m \u001b[34mrasa.nlu.test\u001b[0m  - Classification report for 'CRFEntityExtractor' saved to 'results/CRFEntityExtractor_report.json'.\n",
      "2019-10-23 01:05:13 \u001b[1;30mINFO    \u001b[0m \u001b[34mrasa.nlu.test\u001b[0m  - Incorrect entity predictions saved to results/CRFEntityExtractor_errors.json.\n"
     ]
    }
   ],
   "source": [
    "!rm -f resutls/*erros.json\n",
    "!rasa test nlu --nlu $DATA_PATH --model ./models/"
   ]
  },
  {
   "cell_type": "markdown",
   "metadata": {},
   "source": [
    "#### Matriz de Confusão\n",
    "* A matriz de confusão mostra a correlação entre as intents.\n",
    "* A diagonal principal tem forte correlação pois mostra a relação de uma intent **com ela mesma**\n",
    "* O ideal é que não haja **nenhum valor** diferente de **0 fora da diagonal principal**."
   ]
  },
  {
   "cell_type": "code",
   "execution_count": 7,
   "metadata": {
    "scrolled": false
   },
   "outputs": [
    {
     "data": {
      "text/html": [
       "\n",
       "        <iframe\n",
       "            width=\"900\"\n",
       "            height=\"700\"\n",
       "            src=\"./results/confmat.png\"\n",
       "            frameborder=\"0\"\n",
       "            allowfullscreen\n",
       "        ></iframe>\n",
       "        "
      ],
      "text/plain": [
       "<IPython.lib.display.IFrame at 0x7fc1fb964e48>"
      ]
     },
     "execution_count": 7,
     "metadata": {},
     "output_type": "execute_result"
    }
   ],
   "source": [
    "IFrame(src='./results/confmat.png', width=900, height=700)"
   ]
  },
  {
   "cell_type": "markdown",
   "metadata": {},
   "source": [
    "#### Erros\n",
    "* O arquivo `erros,json` mostra os erros encontrados. Este arquivo lista os mesmos erros mostrados na **matriz de confusão**, então caso ela fique muito grande, não se preocupe, pois você pode apenas procurar os erros no arquivo gerado.\n",
    "* Os erros mostrados são textos repetidos nos exemplos de diferrentes `intents`.\n",
    "* Caso o arquivo não seja gerado significa que não foram encontrados erros."
   ]
  },
  {
   "cell_type": "code",
   "execution_count": 8,
   "metadata": {},
   "outputs": [
    {
     "name": "stdout",
     "output_type": "stream",
     "text": [
      "CRFEntityExtractor_errors.json\tconfmat.png  intent_errors.json\r\n",
      "CRFEntityExtractor_report.json\thist.png     intent_report.json\r\n"
     ]
    }
   ],
   "source": [
    "!ls results/"
   ]
  },
  {
   "cell_type": "code",
   "execution_count": 9,
   "metadata": {
    "scrolled": true
   },
   "outputs": [
    {
     "name": "stdout",
     "output_type": "stream",
     "text": [
      "[\r\n",
      "  {\r\n",
      "    \"text\": \"e o c#\",\r\n",
      "    \"intent\": \"linguagens\",\r\n",
      "    \"intent_prediction\": {\r\n",
      "      \"name\": \"\",\r\n",
      "      \"confidence\": 0.0\r\n",
      "    }\r\n",
      "  }\r\n",
      "]"
     ]
    }
   ],
   "source": [
    "!cat results/intent_errors.json"
   ]
  },
  {
   "cell_type": "code",
   "execution_count": 10,
   "metadata": {},
   "outputs": [
    {
     "name": "stdout",
     "output_type": "stream",
     "text": [
      "[\r\n",
      "  {\r\n",
      "    \"text\": \"qual é o seu deus?\",\r\n",
      "    \"entities\": [],\r\n",
      "    \"predicted_entities\": [\r\n",
      "      {\r\n",
      "        \"start\": 13,\r\n",
      "        \"end\": 17,\r\n",
      "        \"value\": \"deus\",\r\n",
      "        \"entity\": \"religiao\",\r\n",
      "        \"confidence\": 0.474498353384622,\r\n",
      "        \"extractor\": \"CRFEntityExtractor\"\r\n",
      "      }\r\n",
      "    ]\r\n",
      "  },\r\n",
      "  {\r\n",
      "    \"text\": \"concelhos do yoda\",\r\n",
      "    \"entities\": [\r\n",
      "      {\r\n",
      "        \"start\": 13,\r\n",
      "        \"end\": 17,\r\n",
      "        \"value\": \"yoda\",\r\n",
      "        \"entity\": \"starwars\"\r\n",
      "      }\r\n",
      "    ],\r\n",
      "    \"predicted_entities\": []\r\n",
      "  },\r\n",
      "  {\r\n",
      "    \"text\": \"guerra nas estrelas\",\r\n",
      "    \"entities\": [\r\n",
      "      {\r\n",
      "        \"start\": 0,\r\n",
      "        \"end\": 19,\r\n",
      "        \"value\": \"guerra nas estrelas\",\r\n",
      "        \"entity\": \"starwars\"\r\n",
      "      }\r\n",
      "    ],\r\n",
      "    \"predicted_entities\": []\r\n",
      "  },\r\n",
      "  {\r\n",
      "    \"text\": \"como você é?\",\r\n",
      "    \"entities\": [\r\n",
      "      {\r\n",
      "        \"start\": 0,\r\n",
      "        \"end\": 11,\r\n",
      "        \"value\": \"como você é\",\r\n",
      "        \"entity\": \"how\"\r\n",
      "      }\r\n",
      "    ],\r\n",
      "    \"predicted_entities\": []\r\n",
      "  },\r\n",
      "  {\r\n",
      "    \"text\": \"me conta uma piada\",\r\n",
      "    \"entities\": [],\r\n",
      "    \"predicted_entities\": [\r\n",
      "      {\r\n",
      "        \"start\": 13,\r\n",
      "        \"end\": 18,\r\n",
      "        \"value\": \"piada\",\r\n",
      "        \"entity\": \"piada\",\r\n",
      "        \"confidence\": 0.6223906350689047,\r\n",
      "        \"extractor\": \"CRFEntityExtractor\"\r\n",
      "      }\r\n",
      "    ]\r\n",
      "  },\r\n",
      "  {\r\n",
      "    \"text\": \"me fala uma piada\",\r\n",
      "    \"entities\": [],\r\n",
      "    \"predicted_entities\": [\r\n",
      "      {\r\n",
      "        \"start\": 12,\r\n",
      "        \"end\": 17,\r\n",
      "        \"value\": \"piada\",\r\n",
      "        \"entity\": \"piada\",\r\n",
      "        \"confidence\": 0.6187680883976037,\r\n",
      "        \"extractor\": \"CRFEntityExtractor\"\r\n",
      "      }\r\n",
      "    ]\r\n",
      "  },\r\n",
      "  {\r\n",
      "    \"text\": \"voce e um software livre\",\r\n",
      "    \"entities\": [\r\n",
      "      {\r\n",
      "        \"start\": 10,\r\n",
      "        \"end\": 24,\r\n",
      "        \"value\": \"software livre\",\r\n",
      "        \"entity\": \"license\"\r\n",
      "      }\r\n",
      "    ],\r\n",
      "    \"predicted_entities\": []\r\n",
      "  },\r\n",
      "  {\r\n",
      "    \"text\": \"me indica uma playlist\",\r\n",
      "    \"entities\": [],\r\n",
      "    \"predicted_entities\": [\r\n",
      "      {\r\n",
      "        \"start\": 14,\r\n",
      "        \"end\": 22,\r\n",
      "        \"value\": \"playlist\",\r\n",
      "        \"entity\": \"playlist\",\r\n",
      "        \"confidence\": 0.8034555766584158,\r\n",
      "        \"extractor\": \"CRFEntityExtractor\"\r\n",
      "      }\r\n",
      "    ]\r\n",
      "  },\r\n",
      "  {\r\n",
      "    \"text\": \"onde você nasceu?\",\r\n",
      "    \"entities\": [\r\n",
      "      {\r\n",
      "        \"start\": 10,\r\n",
      "        \"end\": 16,\r\n",
      "        \"value\": \"nasceu\",\r\n",
      "        \"entity\": \"where\"\r\n",
      "      }\r\n",
      "    ],\r\n",
      "    \"predicted_entities\": []\r\n",
      "  },\r\n",
      "  {\r\n",
      "    \"text\": \"onde voce nasceu?\",\r\n",
      "    \"entities\": [\r\n",
      "      {\r\n",
      "        \"start\": 10,\r\n",
      "        \"end\": 16,\r\n",
      "        \"value\": \"nasceu\",\r\n",
      "        \"entity\": \"where\"\r\n",
      "      }\r\n",
      "    ],\r\n",
      "    \"predicted_entities\": []\r\n",
      "  },\r\n",
      "  {\r\n",
      "    \"text\": \"Você tem namorado?\",\r\n",
      "    \"entities\": [\r\n",
      "      {\r\n",
      "        \"start\": 9,\r\n",
      "        \"end\": 17,\r\n",
      "        \"value\": \"namorado\",\r\n",
      "        \"entity\": \"relationship\"\r\n",
      "      }\r\n",
      "    ],\r\n",
      "    \"predicted_entities\": []\r\n",
      "  },\r\n",
      "  {\r\n",
      "    \"text\": \"melhor filme\",\r\n",
      "    \"entities\": [],\r\n",
      "    \"predicted_entities\": [\r\n",
      "      {\r\n",
      "        \"start\": 7,\r\n",
      "        \"end\": 12,\r\n",
      "        \"value\": \"filme\",\r\n",
      "        \"entity\": \"filme\",\r\n",
      "        \"confidence\": 0.5262284272303718,\r\n",
      "        \"extractor\": \"CRFEntityExtractor\"\r\n",
      "      }\r\n",
      "    ]\r\n",
      "  },\r\n",
      "  {\r\n",
      "    \"text\": \"Estou muito triste\",\r\n",
      "    \"entities\": [\r\n",
      "      {\r\n",
      "        \"start\": 12,\r\n",
      "        \"end\": 18,\r\n",
      "        \"value\": \"triste\",\r\n",
      "        \"entity\": \"triste\"\r\n",
      "      }\r\n",
      "    ],\r\n",
      "    \"predicted_entities\": []\r\n",
      "  },\r\n",
      "  {\r\n",
      "    \"text\": \"O que você gosta de fazer?\",\r\n",
      "    \"entities\": [\r\n",
      "      {\r\n",
      "        \"start\": 11,\r\n",
      "        \"end\": 25,\r\n",
      "        \"value\": \"gosta de fazer\",\r\n",
      "        \"entity\": \"hobby\"\r\n",
      "      }\r\n",
      "    ],\r\n",
      "    \"predicted_entities\": []\r\n",
      "  },\r\n",
      "  {\r\n",
      "    \"text\": \"Me fala o que você gosta de fazer?\",\r\n",
      "    \"entities\": [\r\n",
      "      {\r\n",
      "        \"start\": 19,\r\n",
      "        \"end\": 33,\r\n",
      "        \"value\": \"gosta de fazer\",\r\n",
      "        \"entity\": \"hobby\"\r\n",
      "      }\r\n",
      "    ],\r\n",
      "    \"predicted_entities\": []\r\n",
      "  },\r\n",
      "  {\r\n",
      "    \"text\": \"conta pra mim uma historinha\",\r\n",
      "    \"entities\": [\r\n",
      "      {\r\n",
      "        \"start\": 18,\r\n",
      "        \"end\": 28,\r\n",
      "        \"value\": \"historinha\",\r\n",
      "        \"entity\": \"historia\"\r\n",
      "      }\r\n",
      "    ],\r\n",
      "    \"predicted_entities\": []\r\n",
      "  }\r\n",
      "]"
     ]
    }
   ],
   "source": [
    "!cat results/CRFEntityExtractor_errors.json"
   ]
  },
  {
   "cell_type": "markdown",
   "metadata": {},
   "source": [
    "#### Histograma\n",
    "\n",
    "* O histograma contém a distribuição da predições das `intents`"
   ]
  },
  {
   "cell_type": "code",
   "execution_count": 11,
   "metadata": {
    "scrolled": false
   },
   "outputs": [
    {
     "data": {
      "text/html": [
       "\n",
       "        <iframe\n",
       "            width=\"900\"\n",
       "            height=\"700\"\n",
       "            src=\"./results/hist.png\"\n",
       "            frameborder=\"0\"\n",
       "            allowfullscreen\n",
       "        ></iframe>\n",
       "        "
      ],
      "text/plain": [
       "<IPython.lib.display.IFrame at 0x7fc21222d198>"
      ]
     },
     "execution_count": 11,
     "metadata": {},
     "output_type": "execute_result"
    }
   ],
   "source": [
    "IFrame(src='./results/hist.png', width=900, height=700)"
   ]
  },
  {
   "cell_type": "markdown",
   "metadata": {},
   "source": [
    "## Referências:\n",
    "\n",
    "O Rasa está em constante evolução, alguns links úteis para a construção deste jupyter-notebook e para a análise das `intents` são:\n",
    "\n",
    "* [Evaluation](https://rasa.com/docs/nlu/evaluation/)"
   ]
  }
 ],
 "metadata": {
  "colab": {
   "collapsed_sections": [
    "y4miuS-TqYcn",
    "BBF6Nqi9scQE",
    "Fs3nOUzBsqrG",
    "5MnGuFRpzzBh"
   ],
   "default_view": {},
   "name": "Building a Simple Bot with Rasa Stack - Tutorial",
   "provenance": [
    {
     "file_id": "1GutDkDXmfU-nRzNH7Pxxx8YpdvLUw9LO",
     "timestamp": 1521183725373
    }
   ],
   "toc_visible": true,
   "version": "0.3.2",
   "views": {}
  },
  "kernelspec": {
   "display_name": "Python 3",
   "language": "python",
   "name": "python3"
  },
  "language_info": {
   "codemirror_mode": {
    "name": "ipython",
    "version": 3
   },
   "file_extension": ".py",
   "mimetype": "text/x-python",
   "name": "python",
   "nbconvert_exporter": "python",
   "pygments_lexer": "ipython3",
   "version": "3.6.9"
  }
 },
 "nbformat": 4,
 "nbformat_minor": 1
}
