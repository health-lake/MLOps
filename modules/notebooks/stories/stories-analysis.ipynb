{
 "cells": [
  {
   "cell_type": "markdown",
   "metadata": {
    "colab_type": "text",
    "id": "kO9wt2g3okLS"
   },
   "source": [
    "# Análise das Stories\n",
    "\n",
    "Notebook para o auxílio da análise das stories do chatbot."
   ]
  },
  {
   "cell_type": "markdown",
   "metadata": {},
   "source": [
    "### Configurando e Imports"
   ]
  },
  {
   "cell_type": "code",
   "execution_count": 1,
   "metadata": {},
   "outputs": [
    {
     "name": "stdout",
     "output_type": "stream",
     "text": [
      "Rasa: 1.4.1\n"
     ]
    }
   ],
   "source": [
    "from IPython.display import IFrame\n",
    "\n",
    "import rasa\n",
    "print(\"Rasa: {}\".format(rasa.__version__))"
   ]
  },
  {
   "cell_type": "markdown",
   "metadata": {
    "colab_type": "text",
    "id": "tK5os3OinphP"
   },
   "source": [
    "## Análise e Avaliação das Stories"
   ]
  },
  {
   "cell_type": "markdown",
   "metadata": {
    "colab_type": "text",
    "id": "qWALQbCdwGxK"
   },
   "source": [
    "### Visualizaçõa do Fluxo de Conversa\n",
    "\n",
    "O comando abaixo monta um grafo com a relação das `intents` e `utters` do chatbot, ou seja, você vai conseguir visualizar o fluxo de conversa do seu chatbot.\n",
    "\n",
    "Esta visualização é importante para verificar possíveis problemas na estrutura do seu chatbot e se ele realmente chega em determinadas \"**falas**\" da conversa."
   ]
  },
  {
   "cell_type": "code",
   "execution_count": 2,
   "metadata": {},
   "outputs": [
    {
     "name": "stdout",
     "output_type": "stream",
     "text": [
      "2019-10-23 01:04:23 \u001b[1;30mINFO    \u001b[0m \u001b[34mabsl\u001b[0m  - Entry Point [tensor2tensor.envs.tic_tac_toe_env:TicTacToeEnv] registered with id [T2TEnv-TicTacToeEnv-v0]\n",
      "2019-10-23 01:04:23 \u001b[1;30mINFO    \u001b[0m \u001b[34mrasa.core.visualize\u001b[0m  - Starting to visualize stories...\n",
      "Processed Story Blocks: 100%|███| 64/64 [00:00<00:00, 5932.80it/s, # trackers=1]\n",
      "Traceback (most recent call last):\n",
      "  File \"/usr/local/bin/rasa\", line 8, in <module>\n",
      "    sys.exit(main())\n",
      "  File \"/usr/local/lib/python3.6/site-packages/rasa/__main__.py\", line 76, in main\n",
      "    cmdline_arguments.func(cmdline_arguments)\n",
      "  File \"/usr/local/lib/python3.6/site-packages/rasa/cli/visualize.py\", line 38, in visualize_stories\n",
      "    args.config, args.domain, args.stories, args.nlu, args.out, args.max_history\n",
      "  File \"uvloop/loop.pyx\", line 1417, in uvloop.loop.Loop.run_until_complete\n",
      "  File \"/usr/local/lib/python3.6/site-packages/rasa/core/visualize.py\", line 53, in visualize\n",
      "    stories_path, output_path, max_history, nlu_training_data=nlu_data_path\n",
      "  File \"/usr/local/lib/python3.6/site-packages/rasa/core/agent.py\", line 805, in visualize\n",
      "    fontsize,\n",
      "  File \"/usr/local/lib/python3.6/site-packages/rasa/core/training/visualization.py\", line 577, in visualize_stories\n",
      "    fontsize=fontsize,\n",
      "  File \"/usr/local/lib/python3.6/site-packages/rasa/core/training/visualization.py\", line 486, in visualize_neighborhood\n",
      "    _merge_equivalent_nodes(graph, max_history)\n",
      "  File \"/usr/local/lib/python3.6/site-packages/rasa/core/training/visualization.py\", line 207, in _merge_equivalent_nodes\n",
      "    graph, i, j, max_history\n",
      "  File \"/usr/local/lib/python3.6/site-packages/rasa/core/training/visualization.py\", line 147, in _nodes_are_equivalent\n",
      "    return graph.node[node_a][\"label\"] == graph.node[node_b][\"label\"] and (\n",
      "AttributeError: 'MultiDiGraph' object has no attribute 'node'\n"
     ]
    }
   ],
   "source": [
    "# !python -m rasa_core.visualize -d $COACH_DOMAIN_PATH -s $COACH_STORIES_PATH -o chat_graph.html\n",
    "!rasa visualize --domain $DOMAIN_PATH --stories $DATA_PATH --config $CONFIG_PATH --out chat_graph.html"
   ]
  },
  {
   "cell_type": "markdown",
   "metadata": {},
   "source": [
    "O Rasa gerou uma página `html` com o grafo de conversa, para facilitar, você pode visualizar o grafo no arquivo `chat_graph.html` aqui na próxima celula.\n",
    "\n",
    "Use o mouse para dar zoom e arrastar sobre o conteúdo do grafo. Altere `width` e `height` se desejar.\n",
    "\n",
    "* Dica: caso você se perca com **zoom in** ou **zoom out** no grafo, apeas re-execute a célula abaixo e ele irá reaparecer na célula."
   ]
  },
  {
   "cell_type": "code",
   "execution_count": 3,
   "metadata": {},
   "outputs": [
    {
     "data": {
      "text/html": [
       "\n",
       "        <iframe\n",
       "            width=\"900\"\n",
       "            height=\"700\"\n",
       "            src=\"./chat_graph.html\"\n",
       "            frameborder=\"0\"\n",
       "            allowfullscreen\n",
       "        ></iframe>\n",
       "        "
      ],
      "text/plain": [
       "<IPython.lib.display.IFrame at 0x7fc9c8bee358>"
      ]
     },
     "execution_count": 3,
     "metadata": {},
     "output_type": "execute_result"
    }
   ],
   "source": [
    "IFrame(src='./chat_graph.html', width=900, height=700)"
   ]
  },
  {
   "cell_type": "markdown",
   "metadata": {},
   "source": [
    "### Avaliação das Stories\n",
    "\n",
    "Outra forma de analisar seu chatbot é por meio da própria avaliação do Rasa, ele gera uma matriz de confusão com os dados fornecidos nas `stories` e do resultado do treinamento armazenado na pasta `models`."
   ]
  },
  {
   "cell_type": "markdown",
   "metadata": {},
   "source": [
    "* Caso você ainda não tenha treinado seu chatbot execute a céclula abaixo para treina-lo."
   ]
  },
  {
   "cell_type": "code",
   "execution_count": 4,
   "metadata": {
    "scrolled": true
   },
   "outputs": [
    {
     "name": "stdout",
     "output_type": "stream",
     "text": [
      "\u001b[92mNothing changed. You can use the old model stored at '/work/notebooks/stories/models/20191023-005105.tar.gz'.\u001b[0m\r\n"
     ]
    }
   ],
   "source": [
    "!rasa train --config $CONFIG_PATH --domain $DOMAIN_PATH --data $DATA_PATH"
   ]
  },
  {
   "cell_type": "code",
   "execution_count": 5,
   "metadata": {
    "scrolled": true
   },
   "outputs": [
    {
     "name": "stdout",
     "output_type": "stream",
     "text": [
      "2019-10-23 01:04:37 \u001b[1;30mINFO    \u001b[0m \u001b[34mabsl\u001b[0m  - Entry Point [tensor2tensor.envs.tic_tac_toe_env:TicTacToeEnv] registered with id [T2TEnv-TicTacToeEnv-v0]\n",
      "Processed Story Blocks: 100%|███| 64/64 [00:00<00:00, 4843.31it/s, # trackers=1]\n",
      "2019-10-23 01:04:37 \u001b[1;30mINFO    \u001b[0m \u001b[34mrasa.core.test\u001b[0m  - Evaluating 64 stories\n",
      "Progress:\n",
      "100%|███████████████████████████████████████████| 64/64 [00:01<00:00, 48.47it/s]\n",
      "2019-10-23 01:04:38 \u001b[1;30mINFO    \u001b[0m \u001b[34mrasa.core.test\u001b[0m  - Finished collecting predictions.\n",
      "2019-10-23 01:04:38 \u001b[1;30mINFO    \u001b[0m \u001b[34mrasa.core.test\u001b[0m  - Evaluation Results on CONVERSATION level:\n",
      "2019-10-23 01:04:38 \u001b[1;30mINFO    \u001b[0m \u001b[34mrasa.core.test\u001b[0m  - \tCorrect:          64 / 64\n",
      "2019-10-23 01:04:38 \u001b[1;30mINFO    \u001b[0m \u001b[34mrasa.core.test\u001b[0m  - \tF1-Score:         1.000\n",
      "2019-10-23 01:04:38 \u001b[1;30mINFO    \u001b[0m \u001b[34mrasa.core.test\u001b[0m  - \tPrecision:        1.000\n",
      "2019-10-23 01:04:38 \u001b[1;30mINFO    \u001b[0m \u001b[34mrasa.core.test\u001b[0m  - \tAccuracy:         1.000\n",
      "2019-10-23 01:04:38 \u001b[1;30mINFO    \u001b[0m \u001b[34mrasa.core.test\u001b[0m  - \tIn-data fraction: 1\n",
      "2019-10-23 01:04:39 \u001b[1;30mINFO    \u001b[0m \u001b[34mrasa.core.test\u001b[0m  - Evaluation Results on ACTION level:\n",
      "2019-10-23 01:04:39 \u001b[1;30mINFO    \u001b[0m \u001b[34mrasa.core.test\u001b[0m  - \tCorrect:          238 / 238\n",
      "2019-10-23 01:04:39 \u001b[1;30mINFO    \u001b[0m \u001b[34mrasa.core.test\u001b[0m  - \tF1-Score:         1.000\n",
      "2019-10-23 01:04:39 \u001b[1;30mINFO    \u001b[0m \u001b[34mrasa.core.test\u001b[0m  - \tPrecision:        1.000\n",
      "2019-10-23 01:04:39 \u001b[1;30mINFO    \u001b[0m \u001b[34mrasa.core.test\u001b[0m  - \tAccuracy:         1.000\n",
      "2019-10-23 01:04:39 \u001b[1;30mINFO    \u001b[0m \u001b[34mrasa.core.test\u001b[0m  - \tIn-data fraction: 1\n",
      "2019-10-23 01:04:39 \u001b[1;30mINFO    \u001b[0m \u001b[34mrasa.core.test\u001b[0m  - \tClassification report: \n",
      "                          precision    recall  f1-score   support\n",
      "\n",
      "             utter_filme       1.00      1.00      1.00         2\n",
      "        utter_como_estou       1.00      1.00      1.00         2\n",
      "          utter_playlist       1.00      1.00      1.00         2\n",
      "        utter_linguagens       1.00      1.00      1.00         2\n",
      "      utter_cumprimentar       1.00      1.00      1.00        29\n",
      "         utter_diga_mais       1.00      1.00      1.00         1\n",
      "          utter_tudo_bem       1.00      1.00      1.00         2\n",
      "            utter_risada       1.00      1.00      1.00         2\n",
      "             utter_piada       1.00      1.00      1.00         2\n",
      "            utter_comida       1.00      1.00      1.00         2\n",
      "   utter_de_onde_voce_eh       1.00      1.00      1.00         2\n",
      "   utter_afirmacao_botao       1.00      1.00      1.00         1\n",
      "    utter_onde_voce_mora       1.00      1.00      1.00         2\n",
      "             utter_botao       1.00      1.00      1.00         2\n",
      "          utter_religiao       1.00      1.00      1.00         2\n",
      "          utter_historia       1.00      1.00      1.00         2\n",
      "              utter_time       1.00      1.00      1.00         2\n",
      "               utter_bff       1.00      1.00      1.00         2\n",
      "           utter_license       1.00      1.00      1.00         2\n",
      "           utter_default       1.00      1.00      1.00         1\n",
      "             utter_hobby       1.00      1.00      1.00         2\n",
      "             action_test       1.00      1.00      1.00         2\n",
      "   utter_o_que_sei_falar       1.00      1.00      1.00         2\n",
      "                utter_me       1.00      1.00      1.00         2\n",
      "             utter_signo       1.00      1.00      1.00         2\n",
      "          utter_despedir       1.00      1.00      1.00         3\n",
      "     utter_negacao_botao       1.00      1.00      1.00         1\n",
      "           action_listen       1.00      1.00      1.00        94\n",
      "               utter_cor       1.00      1.00      1.00         2\n",
      "      utter_relationship       1.00      1.00      1.00         2\n",
      "            utter_genero       1.00      1.00      1.00         2\n",
      "utter_continuar_conversa       1.00      1.00      1.00        50\n",
      "           utter_elogios       1.00      1.00      1.00         2\n",
      "            utter_filhos       1.00      1.00      1.00         2\n",
      "            utter_triste       1.00      1.00      1.00         2\n",
      "         utter_star_wars       1.00      1.00      1.00         2\n",
      "           utter_esporte       1.00      1.00      1.00         2\n",
      "\n",
      "               micro avg       1.00      1.00      1.00       238\n",
      "               macro avg       1.00      1.00      1.00       238\n",
      "            weighted avg       1.00      1.00      1.00       238\n",
      "\n",
      "2019-10-23 01:04:39 \u001b[1;30mINFO    \u001b[0m \u001b[34mrasa.nlu.test\u001b[0m  - Confusion matrix, without normalization: \n",
      "[[94  0  0 ...  0  0  0]\n",
      " [ 0  2  0 ...  0  0  0]\n",
      " [ 0  0  1 ...  0  0  0]\n",
      " ...\n",
      " [ 0  0  0 ...  2  0  0]\n",
      " [ 0  0  0 ...  0  2  0]\n",
      " [ 0  0  0 ...  0  0  2]]\n",
      "2019-10-23 01:04:48 \u001b[1;30mINFO    \u001b[0m \u001b[34mrasa.nlu.test\u001b[0m  - Running model for predictions:\n",
      "100%|████████████████████████████████████████| 588/588 [00:01<00:00, 313.21it/s]\n",
      "2019-10-23 01:04:50 \u001b[1;30mINFO    \u001b[0m \u001b[34mrasa.nlu.test\u001b[0m  - Intent evaluation results:\n",
      "2019-10-23 01:04:50 \u001b[1;30mINFO    \u001b[0m \u001b[34mrasa.nlu.test\u001b[0m  - Intent Evaluation: Only considering those 588 examples that have a defined intent out of 588 examples\n",
      "2019-10-23 01:04:50 \u001b[1;30mINFO    \u001b[0m \u001b[34mrasa.nlu.test\u001b[0m  - Classification report saved to results/intent_report.json.\n",
      "2019-10-23 01:04:50 \u001b[1;30mINFO    \u001b[0m \u001b[34mrasa.nlu.test\u001b[0m  - Incorrect intent predictions saved to results/intent_errors.json.\n",
      "2019-10-23 01:04:51 \u001b[1;30mINFO    \u001b[0m \u001b[34mrasa.nlu.test\u001b[0m  - Confusion matrix, without normalization: \n",
      "[[ 0  0  0 ...  0  0  0]\n",
      " [ 0  6  0 ...  0  0  0]\n",
      " [ 0  0  1 ...  0  0  0]\n",
      " ...\n",
      " [ 0  0  0 ... 14  0  0]\n",
      " [ 0  0  0 ...  0 18  0]\n",
      " [ 0  0  0 ...  0  0 23]]\n",
      "2019-10-23 01:04:58 \u001b[1;30mINFO    \u001b[0m \u001b[34mrasa.nlu.test\u001b[0m  - Entity evaluation results:\n",
      "2019-10-23 01:04:58 \u001b[1;30mINFO    \u001b[0m \u001b[34mrasa.nlu.test\u001b[0m  - Evaluation for entity extractor: CRFEntityExtractor \n",
      "2019-10-23 01:04:58 \u001b[1;30mINFO    \u001b[0m \u001b[34mrasa.nlu.test\u001b[0m  - Classification report for 'CRFEntityExtractor' saved to 'results/CRFEntityExtractor_report.json'.\n",
      "2019-10-23 01:04:58 \u001b[1;30mINFO    \u001b[0m \u001b[34mrasa.nlu.test\u001b[0m  - Incorrect entity predictions saved to results/CRFEntityExtractor_errors.json.\n"
     ]
    }
   ],
   "source": [
    "!rasa test --stories $DATA_PATH --nlu $DATA_PATH"
   ]
  },
  {
   "cell_type": "markdown",
   "metadata": {},
   "source": [
    "O resultado do comando pode ser visto na pasta `results/`:"
   ]
  },
  {
   "cell_type": "code",
   "execution_count": 6,
   "metadata": {},
   "outputs": [
    {
     "name": "stdout",
     "output_type": "stream",
     "text": [
      "CRFEntityExtractor_errors.json\tfailed_stories.md   intent_report.json\r\n",
      "CRFEntityExtractor_report.json\thist.png\t    story_confmat.pdf\r\n",
      "confmat.png\t\t\tintent_errors.json\r\n"
     ]
    }
   ],
   "source": [
    "!ls results"
   ]
  },
  {
   "cell_type": "markdown",
   "metadata": {},
   "source": [
    "Caso algum problme seja encotrado ele será descrito no arquivo `failed_stories.md`"
   ]
  },
  {
   "cell_type": "code",
   "execution_count": 7,
   "metadata": {},
   "outputs": [
    {
     "name": "stdout",
     "output_type": "stream",
     "text": [
      "<!-- All stories passed -->"
     ]
    }
   ],
   "source": [
    "!cat results/failed_stories.md"
   ]
  },
  {
   "cell_type": "markdown",
   "metadata": {},
   "source": [
    "* Se tudo estiver correto você deverá ver a mensagem:\n",
    "\n",
    "`<!-- All stories passed -->`"
   ]
  },
  {
   "cell_type": "markdown",
   "metadata": {},
   "source": [
    "* Outro arquivo gerado é  o `story_confmat.pdf` uma matriz de confusão onde é possível visualizar a relação entre as `utters` (mensagens enviadas ."
   ]
  },
  {
   "cell_type": "code",
   "execution_count": 8,
   "metadata": {
    "scrolled": true
   },
   "outputs": [
    {
     "data": {
      "text/html": [
       "\n",
       "        <iframe\n",
       "            width=\"900\"\n",
       "            height=\"900\"\n",
       "            src=\"./results/story_confmat.pdf\"\n",
       "            frameborder=\"0\"\n",
       "            allowfullscreen\n",
       "        ></iframe>\n",
       "        "
      ],
      "text/plain": [
       "<IPython.lib.display.IFrame at 0x7fc9c8beeda0>"
      ]
     },
     "execution_count": 8,
     "metadata": {},
     "output_type": "execute_result"
    }
   ],
   "source": [
    "IFrame(\"./results/story_confmat.pdf\", width=900, height=900)"
   ]
  },
  {
   "cell_type": "markdown",
   "metadata": {},
   "source": [
    "## Referências:\n",
    "\n",
    "O Rasa está em constante evolução, alguns links úteis para a construção deste jupyter-notebook e para a análise das `stories` são:\n",
    "\n",
    "* [Evaluation](https://rasa.com/docs/core/evaluation/)\n",
    "* [Debugging](https://rasa.com/docs/core/debugging/)"
   ]
  },
  {
   "cell_type": "code",
   "execution_count": null,
   "metadata": {},
   "outputs": [],
   "source": []
  }
 ],
 "metadata": {
  "colab": {
   "collapsed_sections": [
    "y4miuS-TqYcn",
    "BBF6Nqi9scQE",
    "Fs3nOUzBsqrG",
    "5MnGuFRpzzBh"
   ],
   "default_view": {},
   "name": "Building a Simple Bot with Rasa Stack - Tutorial",
   "provenance": [
    {
     "file_id": "1GutDkDXmfU-nRzNH7Pxxx8YpdvLUw9LO",
     "timestamp": 1521183725373
    }
   ],
   "toc_visible": true,
   "version": "0.3.2",
   "views": {}
  },
  "kernelspec": {
   "display_name": "Python 3",
   "language": "python",
   "name": "python3"
  },
  "language_info": {
   "codemirror_mode": {
    "name": "ipython",
    "version": 3
   },
   "file_extension": ".py",
   "mimetype": "text/x-python",
   "name": "python",
   "nbconvert_exporter": "python",
   "pygments_lexer": "ipython3",
   "version": "3.6.9"
  }
 },
 "nbformat": 4,
 "nbformat_minor": 1
}
